{
 "cells": [
  {
   "cell_type": "markdown",
   "id": "4d7e762c-9fc0-4cd3-b0db-89ca17152808",
   "metadata": {},
   "source": [
    "### Homework 2\n",
    "#### Loops, Functions and Classes\n",
    "\n",
    "1. Do this homework **in order**. \n",
    "2. Be sure to have a solid understanding of Functions before working with Classes.\n",
    "\n",
    "In general, I don't expect deep knowledge of classes in this class. What's covered here is roughly the extent of it. Remember, classes are a tricky concept to master in programming, but they are more straightforward in Python than many other languages. \n",
    "\n",
    "Also, do not hesitate to reach out to me for help! When I first learned to program the concepts covered in assignments like this blew my mind. If you find this difficult, you are not alone! I was once in the same boat as well. "
   ]
  },
  {
   "cell_type": "markdown",
   "id": "691e2265-ff44-4748-b16e-d0a407370fb9",
   "metadata": {},
   "source": [
    "1. (2 pts) Loop through the string and eliminate all the asterisks."
   ]
  },
  {
   "cell_type": "code",
   "execution_count": 3,
   "id": "ae0d2ee2-4281-49ad-84f2-c2abad57067d",
   "metadata": {},
   "outputs": [
    {
     "name": "stdout",
     "output_type": "stream",
     "text": [
      "My computer has gone crazy and added extra symbols.\n"
     ]
    }
   ],
   "source": [
    "asterisk = 'My* compu*ter has go*ne craz***y an*d add*ed extra *symbols.*'\n",
    "# your code here\n",
    "result = \"\"\n",
    "for er in asterisk: \n",
    "    if er !='*':\n",
    "        result += er\n",
    "print(result)\n"
   ]
  },
  {
   "cell_type": "markdown",
   "id": "bdec3ba8-5372-4ad9-a03b-580c04e3a431",
   "metadata": {},
   "source": [
    "2. (1 pt) Write a while loop that increments counter until it reaches 7."
   ]
  },
  {
   "cell_type": "code",
   "execution_count": 5,
   "id": "e333acd1-7e6a-4c8b-a51f-3fba6492bcc9",
   "metadata": {},
   "outputs": [
    {
     "name": "stdout",
     "output_type": "stream",
     "text": [
      "1\n",
      "2\n",
      "3\n",
      "4\n",
      "5\n",
      "6\n",
      "7\n"
     ]
    }
   ],
   "source": [
    "counter = 0\n",
    "# your code here\n",
    "while counter < 7:\n",
    "    counter += 1\n",
    "    print(counter)"
   ]
  },
  {
   "cell_type": "markdown",
   "id": "bddaa2d7-917a-4c11-8ccc-10b926539945",
   "metadata": {},
   "source": [
    "3. (3 pts) Create a function that takes in two numbers.\n",
    "If the numbers are both even add them and return the result.\n",
    "\n",
    "If the numbers are odd, subtract the second number from the first and return the result.\n",
    "\n",
    "(Assume you'll always get integers and if you dont, return a message indicating the input is wrong)"
   ]
  },
  {
   "cell_type": "code",
   "execution_count": 6,
   "id": "7cf1850c-b7a4-4d13-8488-1ffd269fa79b",
   "metadata": {},
   "outputs": [
    {
     "name": "stdout",
     "output_type": "stream",
     "text": [
      "6\n",
      "The numbers do not meet the specified conditions.\n",
      "The numbers do not meet the specified conditions.\n",
      "Input is wrong, please enter integers.\n"
     ]
    }
   ],
   "source": [
    "def process_numbers(num1, num2):\n",
    "    if not isinstance(num1, int) or not isinstance(num2, int):\n",
    "        return \"Input is wrong, please enter integers.\"\n",
    "    if num1 % 2 == 0 and num2 % 2 == 0:\n",
    "        return num1 + num2\n",
    "    # If both numbers are odd\n",
    "    elif num1 % 2 != 0 and num2 % 2 != 0:\n",
    "        return num1 - num2\n",
    "    else:\n",
    "        return \"The numbers do not meet the specified conditions.\"\n",
    "result1 = process_numbers(2, 4)  \n",
    "result2 = process_numbers(8, 5)  \n",
    "result3 = process_numbers(8, 3)  \n",
    "result4 = process_numbers(8, \"3\")  \n",
    "\n",
    "print(result1)\n",
    "print(result2)\n",
    "print(result3)\n",
    "print(result4)"
   ]
  },
  {
   "cell_type": "markdown",
   "id": "4fe68a99-b731-4768-804f-87a81099581d",
   "metadata": {},
   "source": [
    "4. (4 pts) Create a function that prints a triangle of asterisks as below. \n",
    "The function accepts n as an integer and makes the longest leg of the triangle that length, decrementing by one until you close the triangle. The function also accepts a direction for the triangle as a variable. If you pass in \"base-up\" it returns the first, but \"base-down\" returns the second.\n",
    "For example, for a triangle where n = 5, the following would be produced:"
   ]
  },
  {
   "cell_type": "code",
   "execution_count": 12,
   "id": "989783e2-c5a8-4eb8-9b27-69c26863f89b",
   "metadata": {},
   "outputs": [
    {
     "name": "stdout",
     "output_type": "stream",
     "text": [
      "Base-up triangle (n = 5):\n",
      "5 base-up\n",
      "\n",
      "Base-down triangle (n = 5):\n",
      "5 base-down\n"
     ]
    }
   ],
   "source": [
    "#Base-up triangle\n",
    "# * * * * *\n",
    "# * * * *\n",
    "# * * *\n",
    "# * *\n",
    "# *\n",
    "\n",
    "#Base-down triangle\n",
    "# *\n",
    "# * *\n",
    "# * * *\n",
    "# * * * *\n",
    "# * * * * *\n",
    "\n",
    "def triangles(n,direction):\n",
    "    #your code here\n",
    "    def triangles(n, direction=\"base-up\"):\n",
    "        if not isinstance(n, int) or n <= 0:\n",
    "            print(\"4\")\n",
    "        return\n",
    "\n",
    "    if direction == \"base-up\":\n",
    "        for i in range(n, 0, -1):\n",
    "            print('*' * i)\n",
    "    elif direction == \"base-down\":\n",
    "        for i in range(1, n + 1):\n",
    "            print('*' * i)\n",
    "    else:\n",
    "        print(\"Invalid direction. Please choose either 'base-up' or 'base-down'.\")\n",
    "print(\"Base-up triangle (n = 5):\")\n",
    "print(5, \"base-up\")\n",
    "\n",
    "print(\"\\nBase-down triangle (n = 5):\")\n",
    "print(5, \"base-down\")\n",
    "    "
   ]
  },
  {
   "cell_type": "markdown",
   "id": "f5d8735c-5da0-47e3-a2a5-2d99561e6ce9",
   "metadata": {},
   "source": [
    "5. (4 pts) Create a function that accepts a letter. Variables a, b, c, and d all start with a value of 0 and can each have a max value of 8. You need to find and return the value for each that results in the place that letter is in the alphabet. So, for example, if you pass in J, the returned value should be \"a = 8, b = 2, c = 0, and d = 0 for the letter J\". You should provide logical errors for inputs that arent what you expect.  "
   ]
  },
  {
   "cell_type": "code",
   "execution_count": 13,
   "id": "87d2d239-27ef-4ba8-a462-4e03967b359f",
   "metadata": {},
   "outputs": [
    {
     "name": "stdout",
     "output_type": "stream",
     "text": [
      "a = 8, b = 2, c = 0, d = 0 for the letter J\n",
      "a = 3, b = 0, c = 0, d = 0 for the letter C\n",
      "a = 8, b = 8, c = 8, d = 2 for the letter Z\n",
      "Input must be a single uppercase letter.\n"
     ]
    }
   ],
   "source": [
    "# your code here\n",
    "def calculate_letter_position(letter):\n",
    "    # Ensure the input is a single uppercase letter\n",
    "    if not isinstance(letter, str) or len(letter) != 1 or not letter.isalpha() or not letter.isupper():\n",
    "        return \"Input must be a single uppercase letter.\"\n",
    "\n",
    "   \n",
    "    position = ord(letter) - ord('A') + 1\n",
    "\n",
    "   \n",
    "    a, b, c, d = 0, 0, 0, 0\n",
    "\n",
    "    \n",
    "    a = min(position, 8)\n",
    "    position -= a\n",
    "    if position > 0:\n",
    "        b = min(position, 8)\n",
    "        position -= b\n",
    "    if position > 0:\n",
    "        c = min(position, 8)\n",
    "        position -= c\n",
    "    if position > 0:\n",
    "        d = min(position, 8)\n",
    "        position -= d\n",
    "\n",
    "    \n",
    "    return f\"a = {a}, b = {b}, c = {c}, d = {d} for the letter {letter}\"\n",
    "\n",
    "\n",
    "print(calculate_letter_position('J')) \n",
    "print(calculate_letter_position('C')) \n",
    "print(calculate_letter_position('Z'))  \n",
    "print(calculate_letter_position('1')) \n",
    "    "
   ]
  },
  {
   "cell_type": "markdown",
   "id": "9cbe4104-769f-49c0-94d8-8c9750f941bc",
   "metadata": {},
   "source": [
    "6. (3 pts) Add an attribute called `age` to the `__init__` method of the `Person` class.\n",
    "\n",
    "Create an instance of `Person()` and print the `age`."
   ]
  },
  {
   "cell_type": "code",
   "execution_count": 21,
   "id": "d9857301-6a2a-424f-bf03-b8da9bcc483c",
   "metadata": {},
   "outputs": [
    {
     "name": "stdout",
     "output_type": "stream",
     "text": [
      "Name: Lucky C\n",
      "Occupation: Student\n",
      "Country: USA\n",
      "Age: 20\n"
     ]
    }
   ],
   "source": [
    "class Person():\n",
    "    \n",
    "    def __init__(self, name, occupation, country, age):\n",
    "        self.name = name\n",
    "        self.occupation = occupation\n",
    "        self.country = country\n",
    "        self.age = age  \n",
    "\n",
    "# Create an instance of the Person class\n",
    "person_instance = Person(name=\"Lucky C\", occupation=\"Student\", country=\"USA\", age=20)\n",
    "\n",
    "+ {person_instance.age}\")"
   ]
  },
  {
   "cell_type": "markdown",
   "id": "4f0f1b43-fefa-4f47-882f-f47800543fa9",
   "metadata": {},
   "source": [
    "7. (3 pts) Add a `static` method of your choice to the class below. \n",
    "\n",
    "Instantiate an object and call your method. \n",
    "\n",
    "What is a static method? (1 pt for your answer here) "
   ]
  },
  {
   "cell_type": "code",
   "execution_count": 34,
   "id": "8bdb974b-86b6-4376-ac0e-be5982fce59b",
   "metadata": {},
   "outputs": [
    {
     "name": "stdout",
     "output_type": "stream",
     "text": [
      "Meryl Streep: This is my line...\n",
      "Meryl Streep has won grammys in 2021,2020, and 2009.\n"
     ]
    }
   ],
   "source": [
    "class Actress:\n",
    "    def __init__(self, name='Meryl Streep'):\n",
    "        self.name = name\n",
    "\n",
    "    def act(self, line):\n",
    "        print(f'{self.name}: {line}')\n",
    "\n",
    "    def grammy_won():\n",
    "        print(\"Meryl Streep has won grammys in 2021,2020, and 2009.\")\n",
    "\n",
    "meryl = Actress()\n",
    "meryl.act('This is my line...')\n",
    "\n",
    "Actress.grammy_won()"
   ]
  },
  {
   "cell_type": "markdown",
   "id": "d02a50c2-0df8-47cf-ba86-43c3fe9734e7",
   "metadata": {},
   "source": [
    "8. (5 pts) Create a class called `Dice` that accepts a single argument called `number_of_dice`. \n",
    "\n",
    "Create an instance method called `roll`. \n",
    "\n",
    "`roll` should randomly pick a number for each die when called and print the results as a list. \n",
    "\n",
    "Create an instance of `Dice`. Then call `roll()` on your instance.\n",
    "\n",
    "Hint: Inside your class create an empty list called `dice`."
   ]
  },
  {
   "cell_type": "code",
   "execution_count": 35,
   "id": "417e11af-458f-4307-b69a-ff20a39c9855",
   "metadata": {},
   "outputs": [
    {
     "name": "stdout",
     "output_type": "stream",
     "text": [
      "[4, 2, 3, 1, 1, 1, 3, 3, 1, 6, 4, 1, 2, 3, 4, 6, 2]\n"
     ]
    }
   ],
   "source": [
    "from random import randrange\n",
    "import random\n",
    "\n",
    "class Dice:\n",
    "    def __init__(self, number_of_dice):\n",
    "        self.number_of_dice = number_of_dice\n",
    "        self.dice = [] \n",
    "\n",
    "    def roll(self):\n",
    "        self.dice = []  \n",
    "        for _ in range(self.number_of_dice):\n",
    "            self.dice.append(random.randint(1, 6))  \n",
    "        print(self.dice)  \n",
    "\n",
    "dice_instance = Dice(17)\n",
    "\n",
    "dice_instance.roll()"
   ]
  },
  {
   "cell_type": "markdown",
   "id": "627197ff-27e6-4839-a5c6-59cd6200d2fb",
   "metadata": {},
   "source": [
    "BONUS: (3 pts) Create a `class` called Car that accepts 3 attributes (make, model and year). \n",
    "\n",
    "In the `__init__` method give your instance those three attributes. \n",
    "\n",
    "Instantiate (create) an object that is your dream car. \n",
    "\n",
    "Print the make of your dream car using the object attributes. \n",
    "\n",
    "Create an appropriate method to return the top speed and call it. \n",
    "\n",
    "Then call the dir() method on your new object. (See your attrs are now included!)"
   ]
  },
  {
   "cell_type": "code",
   "execution_count": 42,
   "id": "2ffb5530-620a-43e0-8c48-4c9754f1f1b3",
   "metadata": {},
   "outputs": [
    {
     "name": "stdout",
     "output_type": "stream",
     "text": [
      "My dream car is a Flamingo.\n",
      "The top speed of the Flamingo Buick is 191 mph.\n",
      "['__class__', '__delattr__', '__dict__', '__dir__', '__doc__', '__eq__', '__format__', '__ge__', '__getattribute__', '__gt__', '__hash__', '__init__', '__init_subclass__', '__le__', '__lt__', '__module__', '__ne__', '__new__', '__reduce__', '__reduce_ex__', '__repr__', '__setattr__', '__sizeof__', '__str__', '__subclasshook__', '__weakref__', 'make', 'model', 'top_speed', 'year']\n"
     ]
    }
   ],
   "source": [
    "class Car:\n",
    "    def __init__(self, make, model, year):\n",
    "        self.make = make\n",
    "        self.model = model\n",
    "        self.year = year\n",
    "\n",
    "    def top_speed(self):\n",
    "        return f\"The top speed of the {self.make} {self.model} is 191 mph.\"\n",
    "\n",
    "dream_car = Car(make=\"Flamingo\", model=\"Buick\", year=1996)\n",
    "\n",
    "print(f\"My dream car is a {dream_car.make}.\")\n",
    "\n",
    "print(dream_car.top_speed())\n",
    "\n",
    "print(dir(dream_car))"
   ]
  }
 ],
 "metadata": {
  "kernelspec": {
   "display_name": "Python 3 (ipykernel)",
   "language": "python",
   "name": "python3"
  },
  "language_info": {
   "codemirror_mode": {
    "name": "ipython",
    "version": 3
   },
   "file_extension": ".py",
   "mimetype": "text/x-python",
   "name": "python",
   "nbconvert_exporter": "python",
   "pygments_lexer": "ipython3",
   "version": "3.9.1"
  }
 },
 "nbformat": 4,
 "nbformat_minor": 5
}
