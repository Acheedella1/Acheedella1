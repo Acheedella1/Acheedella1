{
 "cells": [
  {
   "cell_type": "markdown",
   "metadata": {},
   "source": [
    "### Homework 1\n",
    "\n",
    "Skim this Homework before you do your reading assignments. It will help focus your attention. \n",
    "\n",
    "Provide written answers to questions with a `#comment`. \n",
    "\n",
    "Answer the first 8 question **first** to make sure you understand the core concepts. The rest may be completed in any order.\n",
    "\n",
    "Each question is worth one point unless otherwise stated.\n",
    "\n",
    "Please note: I hope this assignment gets you to tinker with Python. I learn a lot by playing around, and it is important to me that you eventually do too!"
   ]
  },
  {
   "cell_type": "markdown",
   "metadata": {},
   "source": [
    "1. How can you get more information about a function or an object from inside a jupyter cell? "
   ]
  },
  {
   "cell_type": "code",
   "execution_count": 1,
   "metadata": {},
   "outputs": [],
   "source": [
    "#Place the cursor on the Python function or object set and clock shift tab\n"
   ]
  },
  {
   "cell_type": "markdown",
   "metadata": {},
   "source": [
    "2. How can you determine the data type of an object? Describe one data type and what it is."
   ]
  },
  {
   "cell_type": "code",
   "execution_count": 5,
   "metadata": {},
   "outputs": [
    {
     "name": "stdout",
     "output_type": "stream",
     "text": [
      "<class 'int'>\n"
     ]
    }
   ],
   "source": [
    "#You can deterimine the data type of an object by \n",
    "x=7\n",
    "print(type(x)) \n",
    "#One type of data type is Numeric, it is a whole number without any decimals, for example height is 115 cm"
   ]
  },
  {
   "cell_type": "markdown",
   "metadata": {},
   "source": [
    "3. What does assignment mean? Assign a variable named `x` and give it a value of `'yellow'`."
   ]
  },
  {
   "cell_type": "code",
   "execution_count": 7,
   "metadata": {},
   "outputs": [],
   "source": [
    "#An assignment means to give value to a variable.\n",
    "x= 'yellow'"
   ]
  },
  {
   "cell_type": "markdown",
   "metadata": {},
   "source": [
    "4. You have an assortment of items you will need to keep track of. What would be a good data structure to keep them in? Provide an example in code. Make sure your code runs!"
   ]
  },
  {
   "cell_type": "code",
   "execution_count": 12,
   "metadata": {},
   "outputs": [
    {
     "data": {
      "text/plain": [
       "['dogs', 'chicken', 'cows', 'armadillo', 'gorilla']"
      ]
     },
     "execution_count": 12,
     "metadata": {},
     "output_type": "execute_result"
    }
   ],
   "source": [
    "items ={\"dogs\":1,\"chicken\":2,\"cows\":3, \"armadillo\":4, \"gorilla\":5}\n",
    "list(items)\n"
   ]
  },
  {
   "cell_type": "markdown",
   "metadata": {},
   "source": [
    "5. You have an assortment of names and telephone numbers. What might be a good data structure to keep them in? Show an example with code. Make sure your code runs!"
   ]
  },
  {
   "cell_type": "code",
   "execution_count": 5,
   "metadata": {},
   "outputs": [
    {
     "name": "stdout",
     "output_type": "stream",
     "text": [
      "<class 'dict'>\n",
      "{'Raj': 9135794493, 'Furball': 6666666666, 'Racheal': 1234567891}\n",
      "9135794493\n"
     ]
    }
   ],
   "source": [
    "#Dictionary would be a good data structure to put it in.\n",
    "phonebook = {\"Raj\" : 9135794493,\n",
    "          \"Furball\" : 6666666666,\n",
    "          \"Racheal\" : 1234567891,}\n",
    "\n",
    "print(type(phonebook))\n",
    "print(phonebook)\n",
    "print(phonebook[\"Raj\"])"
   ]
  },
  {
   "cell_type": "markdown",
   "metadata": {},
   "source": [
    "6. You need to create a copy of an important list and alter the copy. Why is the following code a bad idea? "
   ]
  },
  {
   "cell_type": "code",
   "execution_count": 1,
   "metadata": {},
   "outputs": [],
   "source": [
    "list1 = [2,4,6]\n",
    "list2 = list1\n",
    "list2[0]= 8"
   ]
  },
  {
   "cell_type": "code",
   "execution_count": 61,
   "metadata": {},
   "outputs": [],
   "source": [
    "#Because list2 and 1 are the the same list object, not a copy and both outputs will be the exact same not indepent of eachother.\n",
    "list1 =[2,4,6]\n",
    "list2 = list1.copy()\n",
    "list2[0]=8"
   ]
  },
  {
   "cell_type": "markdown",
   "metadata": {},
   "source": [
    "7. What is truthy and falsey? Provide a list example **and** a string example of something that is truthy and something that is falsey."
   ]
  },
  {
   "cell_type": "code",
   "execution_count": 4,
   "metadata": {},
   "outputs": [
    {
     "name": "stdout",
     "output_type": "stream",
     "text": [
      "['truthy', 'falsy', 'falsy', 'falsy', 'truthy', 'falsy', 'falsy', 'falsy', 'truthy', 'falsy', 'falsy', 'falsy', 'truthy', 'falsy', 'falsy', 'falsy', 'truthy', 'falsy', 'falsy', 'falsy']\n",
      "['truthy', 'falsy', 'truthy', 'truthy', 'falsy', 'truthy']\n"
     ]
    }
   ],
   "source": [
    "#They are 2 outcomes possible from a set of data and depend on boolean data, if not boolean(no values) it becomes by default falsy\n",
    "#Example of truthy or falsey list\n",
    "numbers = range(20)  \n",
    "truthy_or_falsy = [\"truthy\" if num % 4 == 0 else \"falsy\" for num in numbers]\n",
    "\n",
    "print(truthy_or_falsy)\n",
    "#Example of truth or falsey string\n",
    "strings = [\"yellow\", \"\", \"pink\", \" \", \"\", \"blue\"]\n",
    "truthy_or_falsy = [\"truthy\" if t else \"falsy\" for t in strings]\n",
    "\n",
    "print(truthy_or_falsy)\n"
   ]
  },
  {
   "cell_type": "markdown",
   "metadata": {},
   "source": [
    "8. What is the difference between a dynamically typed and statically typed language? \n",
    "\n",
    "Which one is python? \n",
    "\n",
    "When is that a good thing? \n",
    "\n",
    "When is that a bad thing? "
   ]
  },
  {
   "cell_type": "code",
   "execution_count": 65,
   "metadata": {},
   "outputs": [],
   "source": [
    "#Statistically typed languge checks variable types at compile time where as dynamically does it at runtime.Python is a dynamically typed languge. It is a good thing when you want something simple, fast, and able to store data during runtime. Its a bad thing when code is less readable and stable and code errors are more prone to errors as time goes on."
   ]
  },
  {
   "cell_type": "markdown",
   "metadata": {},
   "source": [
    "9. Here is a [link](https://docs.python.org/3/library/functions.html) to the python `built-in functions`. Choose 2 and give an example of how to use them. "
   ]
  },
  {
   "cell_type": "code",
   "execution_count": 20,
   "metadata": {},
   "outputs": [
    {
     "name": "stdout",
     "output_type": "stream",
     "text": [
      "Dogs are cute\n"
     ]
    },
    {
     "name": "stdin",
     "output_type": "stream",
     "text": [
      "What's your favorite color? pink\n"
     ]
    }
   ],
   "source": [
    "#bool can interpret if a value is true or false\n",
    "#Example \n",
    "def myFunction() :\n",
    "  return True\n",
    "\n",
    "if myFunction():\n",
    "  print(\"Dogs are cute\")\n",
    "else:\n",
    "  print(\"Dogs are ugly\")\n",
    "#Input can be used to return a interger object to a string or number, also return 0 if no arguments are given\n",
    "color = input(\"What's your favorite color?\")"
   ]
  },
  {
   "cell_type": "markdown",
   "metadata": {},
   "source": [
    "10. What `operator` might help me determine if an integer is even or odd? Provide a code example, and make sure it runs!"
   ]
  },
  {
   "cell_type": "code",
   "execution_count": 72,
   "metadata": {},
   "outputs": [
    {
     "name": "stdout",
     "output_type": "stream",
     "text": [
      "Odd\n",
      "Odd\n"
     ]
    }
   ],
   "source": [
    "#The modulus operator\n",
    "def check_even_or_odd(number):\n",
    "    if number % 6 == 0:\n",
    "        return\"Even\"\n",
    "    else:\n",
    "        return\"Odd\"\n",
    "print(check_even_or_odd(8))\n",
    "print(check_even_or_odd(3))"
   ]
  },
  {
   "cell_type": "markdown",
   "metadata": {},
   "source": [
    "11. What is a python expression? What does an expression evalute to? "
   ]
  },
  {
   "cell_type": "code",
   "execution_count": null,
   "metadata": {},
   "outputs": [],
   "source": [
    "#It is a combination of operands and operators, the expression evalutes to any system of algebreic equations. "
   ]
  },
  {
   "cell_type": "markdown",
   "metadata": {},
   "source": [
    "12. Provide an expression that evaluates which variable is greater. "
   ]
  },
  {
   "cell_type": "code",
   "execution_count": 5,
   "metadata": {},
   "outputs": [
    {
     "name": "stdout",
     "output_type": "stream",
     "text": [
      "foo is greater than bar\n"
     ]
    }
   ],
   "source": [
    "foo = 77\n",
    "bar = 38\n",
    "if foo > bar: \n",
    "    print(\"foo is greater than bar\")\n",
    "if bar > foo:\n",
    "    print(\"bar is greater than foo\")"
   ]
  },
  {
   "cell_type": "markdown",
   "metadata": {},
   "source": [
    "13. Provide an if statement (inside the provided for loop) that prints 'even' if the number is even, 'odd' if the number is odd, and 'found it!' if the number is 3."
   ]
  },
  {
   "cell_type": "code",
   "execution_count": 9,
   "metadata": {},
   "outputs": [
    {
     "name": "stdout",
     "output_type": "stream",
     "text": [
      "odd\n",
      "even\n",
      "found it!\n",
      "odd\n",
      "even\n",
      "odd\n",
      "even\n",
      "odd\n",
      "even\n",
      "odd\n"
     ]
    }
   ],
   "source": [
    "my_list = [1,2,3,4,5,6,7,8,9]\n",
    "for i in my_list:\n",
    "    if i == 3:\n",
    "        print(\"found it!\")\n",
    "    if i % 2 == 0:\n",
    "        print(\"even\")\n",
    "    else: \n",
    "        print(\"odd\")"
   ]
  },
  {
   "cell_type": "markdown",
   "metadata": {},
   "source": [
    "14. What is the greater than equal to operator? Show a code example of how it is used. "
   ]
  },
  {
   "cell_type": "code",
   "execution_count": 107,
   "metadata": {},
   "outputs": [
    {
     "name": "stdout",
     "output_type": "stream",
     "text": [
      "True\n",
      "False\n",
      "False\n"
     ]
    }
   ],
   "source": [
    "#Greater than equal to operator is used to compare two values and see which is greater than the other\n",
    "a = 30\n",
    "b = 2\n",
    "c = 27\n",
    "print(a >= b)\n",
    "print(b >= c)\n",
    "print(b >=a)"
   ]
  },
  {
   "cell_type": "markdown",
   "metadata": {},
   "source": [
    "15. What is the floored division operator? Show a code example of how it is used. "
   ]
  },
  {
   "cell_type": "code",
   "execution_count": 108,
   "metadata": {},
   "outputs": [
    {
     "name": "stdout",
     "output_type": "stream",
     "text": [
      "0\n"
     ]
    }
   ],
   "source": [
    "#Floored division operator does integer division and returns the larges value greater than or equal to the result.\n",
    "numerator = 3\n",
    "denominator = 7\n",
    "result = numerator // denominator\n",
    "print(result)\n"
   ]
  },
  {
   "cell_type": "markdown",
   "metadata": {},
   "source": [
    "16. Why does the following give an error? Show how to fix it."
   ]
  },
  {
   "cell_type": "code",
   "execution_count": 1,
   "metadata": {},
   "outputs": [
    {
     "ename": "SyntaxError",
     "evalue": "invalid decimal literal (445552376.py, line 1)",
     "output_type": "error",
     "traceback": [
      "\u001b[0;36m  Cell \u001b[0;32mIn[1], line 1\u001b[0;36m\u001b[0m\n\u001b[0;31m    2cars = ('Ferarri', 'Mustang')\u001b[0m\n\u001b[0m    ^\u001b[0m\n\u001b[0;31mSyntaxError\u001b[0m\u001b[0;31m:\u001b[0m invalid decimal literal\n"
     ]
    }
   ],
   "source": [
    "2cars = ('Ferarri', 'Mustang')"
   ]
  },
  {
   "cell_type": "code",
   "execution_count": 12,
   "metadata": {},
   "outputs": [
    {
     "name": "stdout",
     "output_type": "stream",
     "text": [
      "('Ferrari', 'Mustang')\n"
     ]
    }
   ],
   "source": [
    "cars = ('Ferrari', 'Mustang')\n",
    "print(cars)"
   ]
  },
  {
   "cell_type": "markdown",
   "metadata": {},
   "source": [
    "17. Why does this if statement evaluate to true and do what's in the if body? \n",
    "You will see this shortcut a lot and it can be confusing."
   ]
  },
  {
   "cell_type": "code",
   "execution_count": 7,
   "metadata": {},
   "outputs": [
    {
     "name": "stdout",
     "output_type": "stream",
     "text": [
      "Hooray!\n"
     ]
    }
   ],
   "source": [
    "some_list = ['fizz','buzz',1,{'key':'value'}]\n",
    "\n",
    "if some_list:\n",
    "    print('Hooray!')"
   ]
  },
  {
   "cell_type": "code",
   "execution_count": null,
   "metadata": {},
   "outputs": [],
   "source": [
    "3Some list is a non-empty list, so unless it was [] you wouldn't get false"
   ]
  },
  {
   "cell_type": "markdown",
   "metadata": {},
   "source": [
    "18. Write an expression that raises one number to the power of 8. "
   ]
  },
  {
   "cell_type": "code",
   "execution_count": 110,
   "metadata": {},
   "outputs": [
    {
     "name": "stdout",
     "output_type": "stream",
     "text": [
      "6561\n"
     ]
    }
   ],
   "source": [
    "number = 3\n",
    "result = number **8\n",
    "print(result)"
   ]
  },
  {
   "cell_type": "markdown",
   "metadata": {},
   "source": [
    "19. How can you change `my_var` form an `int` to a `str`?"
   ]
  },
  {
   "cell_type": "code",
   "execution_count": 3,
   "metadata": {},
   "outputs": [],
   "source": [
    "my_var = 65"
   ]
  },
  {
   "cell_type": "code",
   "execution_count": 112,
   "metadata": {},
   "outputs": [
    {
     "name": "stdout",
     "output_type": "stream",
     "text": [
      "65\n",
      "<class 'str'>\n"
     ]
    }
   ],
   "source": [
    "my_var = 65\n",
    "my_var_str = str(my_var)\n",
    "print(my_var_str)\n",
    "print(type(my_var_str))"
   ]
  },
  {
   "cell_type": "markdown",
   "metadata": {},
   "source": [
    "20. Slice `some_string` to only include the words `quarter to eight`. "
   ]
  },
  {
   "cell_type": "code",
   "execution_count": 5,
   "metadata": {},
   "outputs": [],
   "source": [
    "some_string = \"I have got a date at a quarter to eight; I'll see you at the gate, so don't be late\""
   ]
  },
  {
   "cell_type": "code",
   "execution_count": 116,
   "metadata": {},
   "outputs": [
    {
     "name": "stdout",
     "output_type": "stream",
     "text": [
      "quarter to eight\n"
     ]
    }
   ],
   "source": [
    "some_string = \"I have got a date at a quarter to eight; I'll see you at the gate, so don't be late\"\n",
    "start_index = some_string.find(\"quarter\")\n",
    "end_index = some_string.find(\"eight\") + len(\"eight\")\n",
    "sliced_string = some_string[start_index:end_index]\n",
    "print(sliced_string)"
   ]
  },
  {
   "cell_type": "markdown",
   "metadata": {},
   "source": [
    "21. Assign a new **variable** `sport` (that you define) to the 3rd element in the list."
   ]
  },
  {
   "cell_type": "code",
   "execution_count": 8,
   "metadata": {},
   "outputs": [],
   "source": [
    "my_favorite_teams= ['Chiefs', 'Cardinals', 'Blues', 'Billikens','Battlehawks', 'No sports ball for me']"
   ]
  },
  {
   "cell_type": "code",
   "execution_count": 118,
   "metadata": {},
   "outputs": [
    {
     "name": "stdout",
     "output_type": "stream",
     "text": [
      "Blues\n"
     ]
    }
   ],
   "source": [
    "my_favorite_teams= ['Chiefs', 'Cardinals', 'Blues', 'Billikens','Battlehawks', 'No sports ball for me']\n",
    "sport = my_favorite_teams[2]\n",
    "print(sport)"
   ]
  },
  {
   "cell_type": "markdown",
   "metadata": {},
   "source": [
    "22. What is the use case for the `dir()` method? "
   ]
  },
  {
   "cell_type": "code",
   "execution_count": null,
   "metadata": {},
   "outputs": [],
   "source": [
    "#Dir is used to list attributes of a module,object,thing of interest. Good for debugging and exploring objects"
   ]
  },
  {
   "cell_type": "markdown",
   "metadata": {},
   "source": [
    "23. (3 pts) Write a function that takes in any number and triples it. Give the function a default value if no number is passed in."
   ]
  },
  {
   "cell_type": "code",
   "execution_count": 122,
   "metadata": {},
   "outputs": [
    {
     "name": "stdout",
     "output_type": "stream",
     "text": [
      "6\n",
      "9\n"
     ]
    }
   ],
   "source": [
    "def triple_number(number=3):\n",
    "    return number * 3\n",
    "print (triple_number(2))\n",
    "print(triple_number())"
   ]
  },
  {
   "cell_type": "markdown",
   "metadata": {},
   "source": [
    "Bonus (2 pts): Iterate through integers_list and print values that are multiples of 9."
   ]
  },
  {
   "cell_type": "code",
   "execution_count": 9,
   "metadata": {},
   "outputs": [],
   "source": [
    "import random\n",
    "integers_list = [random.randint(0,1000) for i in range(50)] # a list comprehension\n",
    "\n",
    "# your code here"
   ]
  },
  {
   "cell_type": "code",
   "execution_count": null,
   "metadata": {},
   "outputs": [],
   "source": []
  }
 ],
 "metadata": {
  "kernelspec": {
   "display_name": "Python 3 (ipykernel)",
   "language": "python",
   "name": "python3"
  },
  "language_info": {
   "codemirror_mode": {
    "name": "ipython",
    "version": 3
   },
   "file_extension": ".py",
   "mimetype": "text/x-python",
   "name": "python",
   "nbconvert_exporter": "python",
   "pygments_lexer": "ipython3",
   "version": "3.9.1"
  }
 },
 "nbformat": 4,
 "nbformat_minor": 4
}
