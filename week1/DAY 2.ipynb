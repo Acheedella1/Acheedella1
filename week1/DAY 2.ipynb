{
 "cells": [
  {
   "cell_type": "code",
   "execution_count": 26,
   "id": "a7c9c28f-1506-4714-b3a1-91400920e263",
   "metadata": {},
   "outputs": [
    {
     "name": "stdout",
     "output_type": "stream",
     "text": [
      "The variable (x) has a value of  4\n"
     ]
    }
   ],
   "source": [
    "(x) = '4'\n",
    "print(\"The variable (x) has a value of \",x)"
   ]
  },
  {
   "cell_type": "markdown",
   "id": "600d62f2-4697-4ca0-a881-1f593177667b",
   "metadata": {},
   "source": [
    "# Loops and Functions \n",
    "#if a equals b, return \"they are equal\".If a is greater than b\"a is greater\"\n",
    "and if b is greater than a, return \"b\" is greater\"#\n",
    "if a == b:\n",
    "    print(\"they are equal\"_\n",
    "elif a>b:\n",
    "        print(\"a\" is greater\")\n",
    "elif b>a:\n",
    "        print(\"b is greater\")\n",
    "#else only \n"
   ]
  },
  {
   "cell_type": "code",
   "execution_count": 46,
   "id": "6df8d2d5-9701-4396-8d79-5f70c6b7afae",
   "metadata": {},
   "outputs": [
    {
     "ename": "SyntaxError",
     "evalue": "invalid syntax (929072864.py, line 1)",
     "output_type": "error",
     "traceback": [
      "\u001b[1;36m  Cell \u001b[1;32mIn[46], line 1\u001b[1;36m\u001b[0m\n\u001b[1;33m    print(\"they are equal\"_ elif a>b: print(\"a\" is greater\") elif b>a: print(\"b is greater\")if a == b:\u001b[0m\n\u001b[1;37m                          ^\u001b[0m\n\u001b[1;31mSyntaxError\u001b[0m\u001b[1;31m:\u001b[0m invalid syntax\n"
     ]
    }
   ],
   "source": [
    " print(\"they are equal\"_ elif a>b: print(\"a\" is greater\") elif b>a: print(\"b is greater\")if a == b:\n",
    "a == b:\n",
    "    print(\"they are equal\")\n",
    "elif a>b:\n",
    "        print(\"a is greater\")\n",
    "elif b>a:\n",
    "        print(\"b is greater\")"
   ]
  },
  {
   "cell_type": "code",
   "execution_count": null,
   "id": "d7caa67f-6456-4b42-a44e-abfaa0b0962b",
   "metadata": {},
   "outputs": [],
   "source": [
    "#while loops\n",
    "# repeatedly test an expression and continue to run whatever is in the loop\n",
    "#until a stropping condition is met \n"
   ]
  },
  {
   "cell_type": "code",
   "execution_count": 36,
   "id": "54e74d79-d22f-4bb5-b93b-c75c2d582c5d",
   "metadata": {},
   "outputs": [
    {
     "name": "stdout",
     "output_type": "stream",
     "text": [
      "7\n",
      "6\n"
     ]
    }
   ],
   "source": [
    "x = 7\n",
    "while x > 5:\n",
    "    print(x)\n",
    "    x-=1"
   ]
  },
  {
   "cell_type": "code",
   "execution_count": 42,
   "id": "71895990-944d-41cb-b525-879e76368153",
   "metadata": {},
   "outputs": [
    {
     "name": "stdout",
     "output_type": "stream",
     "text": [
      "3\n",
      "4\n",
      "5\n",
      "6\n",
      "7\n",
      "8\n",
      "9\n"
     ]
    }
   ],
   "source": [
    "#create a scenario where x statts at 3 and is incremented by 1\n",
    "#print the value of x while x is less than 10\n",
    "x = 3\n",
    "while x < 10:\n",
    "    print(x)\n",
    "    x= x+1"
   ]
  },
  {
   "cell_type": "code",
   "execution_count": 43,
   "id": "c42afa55-2d2e-4a4b-9964-760058a4fddd",
   "metadata": {},
   "outputs": [
    {
     "name": "stdout",
     "output_type": "stream",
     "text": [
      "dexter\n",
      "grumpy\n",
      "pete\n",
      "dotty\n",
      "fluffy\n"
     ]
    }
   ],
   "source": [
    "cats = [\"dexter\",\"grumpy\",\"pete\",\"dotty\",\"fluffy\"]\n",
    "for cat in cats:\n",
    "    print(cat)"
   ]
  },
  {
   "cell_type": "code",
   "execution_count": 47,
   "id": "bebcf6a8-7af1-4bf7-9326-876454aa9fab",
   "metadata": {},
   "outputs": [
    {
     "name": "stdout",
     "output_type": "stream",
     "text": [
      "1\n",
      "3\n",
      "5\n",
      "7\n",
      "9\n"
     ]
    }
   ],
   "source": [
    "# range(start,stop[,step])\n",
    "# stop is eclusive\n",
    "for r in range(1,10+1,2):\n",
    "    print(r)"
   ]
  },
  {
   "cell_type": "code",
   "execution_count": 53,
   "id": "15ac68c5-7a6f-4264-81a1-3e17df947ec3",
   "metadata": {},
   "outputs": [
    {
     "data": {
      "text/plain": [
       "'a is greater'"
      ]
     },
     "execution_count": 53,
     "metadata": {},
     "output_type": "execute_result"
    }
   ],
   "source": [
    "#to be reusiable use def\n",
    "# and variables we want to use int he fintion nees to be passed \n",
    "def comparison(a,b):\n",
    "    if a == b:\n",
    "        return \"they are equal\"\n",
    "    elif a>b:\n",
    "        return \"a is greater\"\n",
    "    elif b>a:\n",
    "        return\"b is greater\"\n",
    "\n",
    "comparison(2,17)\n",
    "comparison(14,0)\n"
   ]
  },
  {
   "cell_type": "code",
   "execution_count": 43,
   "id": "608ae303-179a-432c-8fe4-95adc352b4e0",
   "metadata": {},
   "outputs": [
    {
     "name": "stdout",
     "output_type": "stream",
     "text": [
      "Not Birthday\n",
      "Not Birthday\n",
      "Not Birthday\n",
      "Not Birthday\n",
      "Not Birthday\n",
      "Not Birthday\n",
      "Not Birthday\n",
      "My Birthday\n",
      "Not Birthday\n",
      "Not Birthday\n",
      "Not Birthday\n",
      "Not Birthday\n",
      "Not Birthday\n"
     ]
    }
   ],
   "source": [
    "months =[\"January\",\"February\",\"March\",\"April\",\"May\",\"June\",\"July\",\"August\",\"September\",\"October\",\"November\",\"December\"] \n",
    "for y in months:\n",
    "    print(\"Not Birthday\")\n",
    "    if y == \"July\":\n",
    "        print(\"My Birthday\")"
   ]
  },
  {
   "cell_type": "code",
   "execution_count": null,
   "id": "12c7fde6-1407-45ec-8eaa-8a4d7cc2c883",
   "metadata": {},
   "outputs": [],
   "source": []
  }
 ],
 "metadata": {
  "kernelspec": {
   "display_name": "Python 3 (ipykernel)",
   "language": "python",
   "name": "python3"
  },
  "language_info": {
   "codemirror_mode": {
    "name": "ipython",
    "version": 3
   },
   "file_extension": ".py",
   "mimetype": "text/x-python",
   "name": "python",
   "nbconvert_exporter": "python",
   "pygments_lexer": "ipython3",
   "version": "3.9.1"
  }
 },
 "nbformat": 4,
 "nbformat_minor": 5
}
