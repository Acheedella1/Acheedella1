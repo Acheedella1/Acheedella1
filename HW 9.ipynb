{
 "cells": [
  {
   "cell_type": "code",
   "execution_count": 37,
   "metadata": {},
   "outputs": [
    {
     "name": "stdout",
     "output_type": "stream",
     "text": [
      "OneClassSVM Macro Precision: 0.13433268858800773\n"
     ]
    },
    {
     "name": "stderr",
     "output_type": "stream",
     "text": [
      "c:\\Users\\19133\\CSCI\\du_install\\lib\\site-packages\\sklearn\\metrics\\_classification.py:1531: UndefinedMetricWarning: Precision is ill-defined and being set to 0.0 in labels with no predicted samples. Use `zero_division` parameter to control this behavior.\n",
      "  _warn_prf(average, modifier, f\"{metric.capitalize()} is\", len(result))\n"
     ]
    }
   ],
   "source": [
    "from sklearn.model_selection import train_test_split\n",
    "from sklearn.metrics import precision_score\n",
    "from sklearn.pipeline import make_pipeline\n",
    "from sklearn.preprocessing import StandardScaler\n",
    "from sklearn.svm import OneClassSVM\n",
    "from ucimlrepo import fetch_ucirepo\n",
    "import pandas as pd\n",
    "import numpy as np\n",
    "\n",
    "#Q1- I use the regular preprocessing approach but I also used the OneClassSVM from the articles provided in class to scale my data and \n",
    "#to check if there is a signiciant outlier via the accuracy score. Since its 0.13 it is relatively not affected by outliers.\n",
    "heart_disease = fetch_ucirepo(id=45)\n",
    "X = pd.DataFrame(heart_disease.data.features, columns=heart_disease.data.feature_names)\n",
    "y = pd.Series(heart_disease.data.targets.squeeze(), name='Outcome')\n",
    "columns_to_one_hot = ['sex', 'cp', 'chol', 'fbs', 'restecg', 'thalach', 'exang', 'oldpeak', 'slope', 'ca', 'thal']\n",
    "X = pd.get_dummies(X, columns=columns_to_one_hot)\n",
    "X_train, X_test, y_train, y_test = train_test_split(X, y, test_size=0.3, random_state=42)\n",
    "\n",
    "# OneClassSVM with pipeline, important for scaling and finding accuracy score or calculating how many outliers to reg set. Functions used:\n",
    "#pd.get_dummies, make_pipeline, clf.predict, xtest, oneclasssvm,np.where, precision_score\n",
    "classifer = make_pipeline(StandardScaler(), OneClassSVM(gamma='auto'))\n",
    "classifer.fit(X_train)\n",
    "y_pred_svm = classifer.predict(X_test)\n",
    "pred = pd.DataFrame({'svm': y_pred_svm})\n",
    "pred['svm_pred'] = np.where(pred['svm'] == -1, 1, 0)\n",
    "y_pred_svm = pred['svm_pred']\n",
    "precision_macro = precision_score(y_test, y_pred_svm, average='macro')\n",
    "print(\"OneClassSVM Macro Precision:\", precision_macro)"
   ]
  },
  {
   "cell_type": "code",
   "execution_count": 63,
   "id": "62e354fb",
   "metadata": {},
   "outputs": [
    {
     "name": "stderr",
     "output_type": "stream",
     "text": [
      "c:\\Users\\19133\\CSCI\\du_install\\lib\\site-packages\\sklearn\\linear_model\\_logistic.py:469: ConvergenceWarning: lbfgs failed to converge (status=1):\n",
      "STOP: TOTAL NO. of ITERATIONS REACHED LIMIT.\n",
      "\n",
      "Increase the number of iterations (max_iter) or scale the data as shown in:\n",
      "    https://scikit-learn.org/stable/modules/preprocessing.html\n",
      "Please also refer to the documentation for alternative solver options:\n",
      "    https://scikit-learn.org/stable/modules/linear_model.html#logistic-regression\n",
      "  n_iter_i = _check_optimize_result(\n"
     ]
    },
    {
     "data": {
      "text/plain": [
       "0.5164835164835165"
      ]
     },
     "execution_count": 63,
     "metadata": {},
     "output_type": "execute_result"
    }
   ],
   "source": [
    "#Q2- intial KNN and log reg values prior to combined undersampling \n",
    "#KNN and logregression score is 0.52 \n",
    "from sklearn.linear_model import LogisticRegression\n",
    "from sklearn.model_selection import train_test_split\n",
    "from sklearn.preprocessing import StandardScaler\n",
    "regression = LogisticRegression(random_state=42).fit(X_train, y_train)\n",
    "y_predicted = regression.predict(X_test)\n",
    "y_predicted\n",
    "regression.score(X_test, y_test)\n",
    "from sklearn.neighbors import KNeighborsClassifier\n",
    "from sklearn.model_selection import train_test_split\n",
    "knn = KNeighborsClassifier(n_neighbors=13) \n",
    "knn.fit(X_train, y_train) \n",
    "y_pred = knn.predict(X_test)\n",
    "print(y_pred)\n",
    "print(type(y_pred))\n",
    "print(knn.score(X_test, y_test))"
   ]
  },
  {
   "cell_type": "code",
   "execution_count": 38,
   "id": "1de6546c",
   "metadata": {},
   "outputs": [
    {
     "name": "stderr",
     "output_type": "stream",
     "text": [
      "c:\\Users\\19133\\CSCI\\du_install\\lib\\site-packages\\sklearn\\linear_model\\_logistic.py:469: ConvergenceWarning: lbfgs failed to converge (status=1):\n",
      "STOP: TOTAL NO. of ITERATIONS REACHED LIMIT.\n",
      "\n",
      "Increase the number of iterations (max_iter) or scale the data as shown in:\n",
      "    https://scikit-learn.org/stable/modules/preprocessing.html\n",
      "Please also refer to the documentation for alternative solver options:\n",
      "    https://scikit-learn.org/stable/modules/linear_model.html#logistic-regression\n",
      "  n_iter_i = _check_optimize_result(\n"
     ]
    },
    {
     "data": {
      "text/plain": [
       "<sklearn.metrics._plot.confusion_matrix.ConfusionMatrixDisplay at 0x1f6fa54d5e0>"
      ]
     },
     "execution_count": 38,
     "metadata": {},
     "output_type": "execute_result"
    },
    {
     "data": {
      "image/png": "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",
      "text/plain": [
       "<Figure size 640x480 with 2 Axes>"
      ]
     },
     "metadata": {},
     "output_type": "display_data"
    }
   ],
   "source": [
    "#Q2-I chose underfitting with a bit of SMOTE which is a oversampling technique, the dataset itself doesn't show any bias so I don't\n",
    "#think its apropriate to use one technique over the other.The confusion matrix here is saying that the model frequently predicts one \n",
    "# class of data but is incorrect so the 28 is a value frequently guessed but it is a wrong assumption and doesn't take the data into \n",
    "# account. I used combined undeerfitting but SMOTE isn't good enough to remove the skew from a perfectly fine dataset to begin with.\n",
    "from imblearn.over_sampling import SMOTE\n",
    "from imblearn.under_sampling import ClusterCentroids\n",
    "from sklearn.linear_model import LogisticRegression\n",
    "from sklearn.pipeline import make_pipeline\n",
    "from sklearn.metrics import ConfusionMatrixDisplay\n",
    "\n",
    "rus = ClusterCentroids(random_state=42)\n",
    "X_resampled, y_resampled = rus.fit_resample(X_train, y_train)\n",
    "smt = SMOTE(random_state=42)\n",
    "model = LogisticRegression(random_state=42)\n",
    "X_resampled, y_resampled = smt.fit_resample(X_resampled, y_resampled)\n",
    "model.fit(X_resampled, y_resampled)\n",
    "y_pred = model.predict(X_test)\n",
    "ConfusionMatrixDisplay.from_estimator(model, X_test, y_test) "
   ]
  },
  {
   "cell_type": "code",
   "execution_count": 68,
   "id": "659825b1",
   "metadata": {},
   "outputs": [
    {
     "name": "stderr",
     "output_type": "stream",
     "text": [
      "c:\\Users\\19133\\CSCI\\du_install\\lib\\site-packages\\sklearn\\linear_model\\_logistic.py:469: ConvergenceWarning: lbfgs failed to converge (status=1):\n",
      "STOP: TOTAL NO. of ITERATIONS REACHED LIMIT.\n",
      "\n",
      "Increase the number of iterations (max_iter) or scale the data as shown in:\n",
      "    https://scikit-learn.org/stable/modules/preprocessing.html\n",
      "Please also refer to the documentation for alternative solver options:\n",
      "    https://scikit-learn.org/stable/modules/linear_model.html#logistic-regression\n",
      "  n_iter_i = _check_optimize_result(\n",
      "c:\\Users\\19133\\CSCI\\du_install\\lib\\site-packages\\sklearn\\base.py:493: UserWarning: X does not have valid feature names, but LogisticRegression was fitted with feature names\n",
      "  warnings.warn(\n",
      "c:\\Users\\19133\\CSCI\\du_install\\lib\\site-packages\\sklearn\\base.py:493: UserWarning: X does not have valid feature names, but LogisticRegression was fitted with feature names\n",
      "  warnings.warn(\n",
      "c:\\Users\\19133\\CSCI\\du_install\\lib\\site-packages\\sklearn\\base.py:493: UserWarning: X does not have valid feature names, but LogisticRegression was fitted with feature names\n",
      "  warnings.warn(\n",
      "c:\\Users\\19133\\CSCI\\du_install\\lib\\site-packages\\sklearn\\base.py:493: UserWarning: X does not have valid feature names, but KNeighborsClassifier was fitted with feature names\n",
      "  warnings.warn(\n",
      "c:\\Users\\19133\\CSCI\\du_install\\lib\\site-packages\\sklearn\\base.py:493: UserWarning: X does not have valid feature names, but KNeighborsClassifier was fitted with feature names\n",
      "  warnings.warn(\n",
      "c:\\Users\\19133\\CSCI\\du_install\\lib\\site-packages\\sklearn\\base.py:493: UserWarning: X does not have valid feature names, but KNeighborsClassifier was fitted with feature names\n",
      "  warnings.warn(\n"
     ]
    },
    {
     "name": "stdout",
     "output_type": "stream",
     "text": [
      "Logistic Regression Score: 0.04395604395604396\n",
      "KNN Score: 0.5274725274725275\n"
     ]
    },
    {
     "data": {
      "image/png": "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",
      "text/plain": [
       "<Figure size 640x480 with 2 Axes>"
      ]
     },
     "metadata": {},
     "output_type": "display_data"
    },
    {
     "data": {
      "image/png": "iVBORw0KGgoAAAANSUhEUgAAAfIAAAGwCAYAAABSAee3AAAAOXRFWHRTb2Z0d2FyZQBNYXRwbG90bGliIHZlcnNpb24zLjkuMiwgaHR0cHM6Ly9tYXRwbG90bGliLm9yZy8hTgPZAAAACXBIWXMAAA9hAAAPYQGoP6dpAAA5W0lEQVR4nO3da3xU5bn38f8kISeSDAmHxEiCWOSQIiBRMfWsaDw8CEJ3WzduA0V81ECBbCxSi4iKYWsriCJSRZA+ZqNVQcAKUpSDChQCQQSMIChRCIcCCQlkksys5wUyOg3ITGaStWbm9/181ou5Zx2uXKVecx/WWjbDMAwBAICgFGF2AAAAoPEo5AAABDEKOQAAQYxCDgBAEKOQAwAQxCjkAAAEMQo5AABBLMrsAPzhcrm0b98+JSYmymazmR0OAMBHhmHo+PHjSk9PV0RE0/Uta2pqVFtb6/d5oqOjFRsbG4CIAieoC/m+ffuUkZFhdhgAAD+VlZWpffv2TXLumpoadeyQoPKDTr/PlZaWpj179liqmAd1IU9MTJQkfbPpAiUlMEvwU+7sfLHZIQBAA/Wq08f6u/u/502htrZW5Qed+qb4AiUlNr5WVB53qUP216qtraWQB8rp4fSkhAi//scJB1G2FmaHAAANff+Q8OaYHk1ItCkhsfHXccmaU7hBXcgBAPCW03DJ6cfbRZyGK3DBBBCFHAAQFlwy5FLjK7k/xzYlxqMBAAhi9MgBAGHBJZf8GRz37+imQyEHAIQFp2HIaTR+eNyfY5sSQ+sAAAQxeuQAgLAQqovdKOQAgLDgkiFnCBZyhtYBAAhi9MgBAGGBoXUAAIIYq9YBAIDl0CMHAIQF1/ebP8dbEYUcABAWnH6uWvfn2KZEIQcAhAWnIT/ffha4WAKJOXIAAIIYPXIAQFhgjhwAgCDmkk1O2fw63ooYWgcAIIjRIwcAhAWXcWrz53gropADAMKC08+hdX+ObUoMrQMAEMTokQMAwkKo9sgp5ACAsOAybHIZfqxa9+PYpsTQOgAAQYweOQAgLDC0DgBAEHMqQk4/BqKdAYwlkCjkAICwYPg5R24wRw4AAAKNQh4AbzzfTrnpvTTz0fPdbUcORunpkZn6Tc+f646fXaz8mztrzXt2E6O0ln5DDuu19du1ePdnem7JTnXpdcLskCyHHHmHPHmHPP0wR+7PZkWWKOQzZszQBRdcoNjYWPXp00f//Oc/zQ7Ja6UlcXrv/7VWx6yTHu3P/C5TZV/F6LG5ezTrw1JdeVuFnvq/F2jX1jiTIrWOa+84qvsm7tPrz6YpP7ezdm+P1eSi3bK3rjM7NMsgR94hT94hT6c4jQi/NysyPao33nhDBQUFmjhxojZt2qSePXsqNzdXBw8eNDu0czpZHaH/GdFBo58pU6LdcxnE9o0t1f+3h9X1khM6r0Ot/nP0AbW0O7XzMwr5wPsOa2lRij54I0V7d8Zq+rj2cpy0KfeuI2aHZhnkyDvkyTvkKbSZXsifffZZDR8+XEOHDlVWVpZeeuklxcfH69VXXzU7tHN64Q/tdfmNlep9TVWD77IurdaqRa1UeTRSLpe0cmEr1dbY1OMXDfcNJ1EtXLqoxwltWpPobjMMmzavSVRWdvgN9Z0JOfIOefIOefqBSza5FOHHZs2hdVNXrdfW1qq4uFjjx493t0VERKhv375au3Ztg/0dDoccDof7c2VlZbPEeSYrF7bSrq1xev7vX57x+0dmfaOn7u+g//j5xYqMMhQT59LE2V/r/I61zRyptSSlOBUZJR075PlP7+jhKGV0cpzlqPBCjrxDnrxDnn4QqveRm9ojP3z4sJxOp1JTUz3aU1NTVV5e3mD/wsJC2e1295aRkdFcoXo4+F0LzXz0fI174RtFx575vXavPZ2mqspITXljl55/v1SD7juoyfdfoD07Yps5WgBAKAuq+8jHjx+vgoIC9+fKykpTivmuz+J17HAL5ed2cbe5nDZtXddSi+a00ew1O7RoTlvN+ugLXdClRpL0s5/XaOv6BC2a20aj/ufbZo/ZKiqPRMpZL7VqW+/RntymXkcPBdU/xyZDjrxDnrxDnn7g74I1p2HNF5Kb2iNv06aNIiMjdeDAAY/2AwcOKC0trcH+MTExSkpK8tjM0Ovq45r14ReaubzUvXXueUI3DDyqmctL5Th5Kq0REZ7/o0dGGjJcZkRsHfV1Edr5Wbwuueq4u81mM9TrqiptL443MTLrIEfeIU/eIU8/ODVH7t9mRaYW8ujoaGVnZ2vFihXuNpfLpRUrVignJ8fEyH5afIJLF3St8dhi411KTHbqgq41yuhUo/SODj33+wx9sTle+76O1lsvtdWm1Yn6xS0VZodvunf+0ka3/ucR9f2PI8roVKORU75VbLxLH8xPMTs0yyBH3iFP3iFPoc30cZWCggLl5eXp0ksv1eWXX65p06apurpaQ4cONTu0RotqIT351680+6l0TczrqJPVEUrvWKuxz+3V5TceP/cJQtyqRcmyt3bqnofKldy2Xru3xemRwR117HALs0OzDHLkHfLkHfJ0isvPZ627ZM2hdZthmD/o/8ILL+iZZ55ReXm5evXqpenTp6tPnz7nPK6yslJ2u11Hv7xQSYmm30lnabnpvcwOAQAaqDfqtFLvqqKiosmmS0/XivklWYpPjGz0eU4cd+o3vbY3aayNYXqPXJJGjBihESNGmB0GACCEnb4fvPHHm97vPSO6sQAABDFL9MgBAGhqTsMmpx+vIvXn2KZEIQcAhAWnn4vdnAytAwCAQKNHDgAICy4jQi4/nuzmMv8mrzOikAMAwgJD6wAAwHLokQMAwoJL/q08t+qrMijkAICw4P8DYaw5iG3NqAAAgFfokQMAwoL/7yO3Zt+XQg4ACAv+vlPcqu8jp5ADAMJCqPbIrRkVAADwCoUcABAWTj8Qxp+tsaZMmSKbzabRo0e722pqapSfn6/WrVsrISFBgwYN0oEDB3w+N4UcABAWXIbN760xNmzYoFmzZqlHjx4e7WPGjNHixYv1t7/9TatWrdK+ffs0cOBAn89PIQcAoIlUVVVp8ODBevnll5WcnOxur6io0OzZs/Xss8/qhhtuUHZ2tubMmaNPP/1U69at8+kaFHIAQFhw+TmsfvqBMJWVlR6bw+E46zXz8/N1++23q2/fvh7txcXFqqur82jv2rWrMjMztXbtWp/+LlatAwDCgv9vPzt1bEZGhkf7xIkT9dhjjzXYf/78+dq0aZM2bNjQ4Lvy8nJFR0erVatWHu2pqakqLy/3KS4KOQAAPigrK1NSUpL7c0xMzBn3GTVqlJYvX67Y2NgmjYdCDgAIC07Z5PTjoS6nj01KSvIo5GdSXFysgwcPqnfv3j8c73Rq9erVeuGFF7Rs2TLV1tbq2LFjHr3yAwcOKC0tzae4KOQAgLAQqKF1b9x4443aunWrR9vQoUPVtWtXjRs3ThkZGWrRooVWrFihQYMGSZJKS0u1d+9e5eTk+BQXhRwAgABLTExU9+7dPdpatmyp1q1bu9uHDRumgoICpaSkKCkpSSNHjlROTo6uuOIKn65FIQcAhAWn5OfQemBNnTpVERERGjRokBwOh3Jzc/Xiiy/6fB4KOQAgLDTn0PqZrFy50uNzbGysZsyYoRkzZvh1Xgo5ACAs8NIUAABgOfTIAQBhwfDzfeQG7yMHAMA8DK0DAADLCYke+VV/uleR0U37CLxg106fmh0CAJjKn1eRnj7eikKikAMAcC6n32Lmz/FWZM2oAACAV+iRAwDCAkPrAAAEMZci5PJjINqfY5uSNaMCAABeoUcOAAgLTsMmpx/D4/4c25Qo5ACAsMAcOQAAQczw8+1nBk92AwAAgUaPHAAQFpyyyenHi0/8ObYpUcgBAGHBZfg3z+0yAhhMADG0DgBAEKNHDgAICy4/F7v5c2xTopADAMKCSza5/Jjn9ufYpmTNnxcAAMAr9MgBAGGBJ7sBABDEQnWO3JpRAQAAr9AjBwCEBZf8fNa6RRe7UcgBAGHB8HPVukEhBwDAPKH69jPmyAEACGL0yAEAYSFUV61TyAEAYYGhdQAAYDn0yAEAYSFUn7VOIQcAhAWG1gEAgOXQIwcAhIVQ7ZFTyAEAYSFUCzlD6wAABDF65I3UO2Of7skpUVbaIbVNPKExf7tFK7/s6P5+8yMzz3jc1BVXaN66S5orTMvqN+SwfvnAQaW0rdfu7XF68Y/nq7Qk3uywLIUceYc8eYc80SNvEqtXr1a/fv2Unp4um82mhQsXmhmOT+Ki6/TlgdYqXHb1Gb/vOy3PY5u4+Hq5DGnFFz9r5kit59o7juq+ifv0+rNpys/trN3bYzW5aLfsrevMDs0yyJF3yJN3yNMphn64Ba0xm2H2H3AWphby6upq9ezZUzNmzDAzjEb55KsOenFVH31UeuEZv/9XdbzHdl3nPdrw9fn67lhSM0dqPQPvO6ylRSn64I0U7d0Zq+nj2stx0qbcu46YHZplkCPvkCfvkKdTTvfI/dmsyNRCfuutt+rJJ5/UnXfeaWYYTS6l5Qld1WmvFm7panYopotq4dJFPU5o05pEd5th2LR5TaKysk+YGJl1kCPvkCfvkKfQF1Rz5A6HQw6Hw/25srLSxGi81+/iUp2obaEPvzhz7z2cJKU4FRklHTvk+U/v6OEoZXRynOWo8EKOvEOevEOefsAcuQUUFhbKbre7t4yMDLND8kr/nl/o/c8vUq0zqH43AUBIYWjdAsaPH6+Kigr3VlZWZnZI53RJxj51bHNMC0q6mR2KJVQeiZSzXmrVtt6jPblNvY4e4oeORI68RZ68Q55CX1AV8piYGCUlJXlsVjeg5xfavr+tvjzYxuxQLKG+LkI7P4vXJVcdd7fZbIZ6XVWl7cXhdSvM2ZAj75An75CnH4Rqj5yfY40U16JOGSkV7s/nt6pU59TDqjwZo/LKU4tKWkbX6qZuX+nZFb8wK0xLeucvbTR2Wpm+3BKv0s3xunP4IcXGu/TB/BSzQ7MMcuQd8uQd8nSKYdhk+FGM/Tm2KZlayKuqqrRr1y735z179qikpEQpKSnKzMw0MbJzyzrvoF75r0Xuz2Nv+lSStGhLF01ccoMkKffnuySbtHRbJ1NitKpVi5Jlb+3UPQ+VK7ltvXZvi9Mjgzvq2OEWZodmGeTIO+TJO+QptNkMwzDtHveVK1fq+uuvb9Cel5enuXPnnvP4yspK2e12/fy+pxQZHdsEEYaOdjM+NTsEAGig3qjTSr2rioqKJpsuPV0rct4dqaiWMY0+T321Q2v7P9+ksTaGqT3y6667Tib+jgAAhBFuPwMAAJbDYjcAQFhgsRsAAEEsVIfWKeQAgLAQqj1y5sgBAAhi9MgBAGHB8HNo3ao9cgo5ACAsGJL8uePZqjdLM7QOAEAQo0cOAAgLLtlkkx+r1v04tilRyAEAYYFV6wAAwHLokQMAwoLLsMnGA2EAAAhOhuHnqnWLLltnaB0AgCBGjxwAEBZCdbEbhRwAEBYo5AAABLFQXezGHDkAAE1g5syZ6tGjh5KSkpSUlKScnBy9//777u9ramqUn5+v1q1bKyEhQYMGDdKBAwd8vg6FHAAQFk6vWvdn80X79u01ZcoUFRcXa+PGjbrhhhvUv39/bdu2TZI0ZswYLV68WH/729+0atUq7du3TwMHDvT572JoHQAQFk4VY3/myH3bv1+/fh6fJ0+erJkzZ2rdunVq3769Zs+eraKiIt1www2SpDlz5qhbt25at26drrjiCq+vQ48cAAAfVFZWemwOh+OcxzidTs2fP1/V1dXKyclRcXGx6urq1LdvX/c+Xbt2VWZmptauXetTPBRyAEBYOL1q3Z9NkjIyMmS3291bYWHhWa+5detWJSQkKCYmRvfff78WLFigrKwslZeXKzo6Wq1atfLYPzU1VeXl5T79XQytAwDCgiH/3il++tiysjIlJSW522NiYs56TJcuXVRSUqKKigq99dZbysvL06pVq/yIoiEKOQAAPji9Ct0b0dHR6tSpkyQpOztbGzZs0HPPPadf//rXqq2t1bFjxzx65QcOHFBaWppP8TC0DgAIC4EaWveHy+WSw+FQdna2WrRooRUrVri/Ky0t1d69e5WTk+PTOemRAwDCQ6DG1r00fvx43XrrrcrMzNTx48dVVFSklStXatmyZbLb7Ro2bJgKCgqUkpKipKQkjRw5Ujk5OT6tWJco5ACAcOFvr9rHYw8ePKh77rlH+/fvl91uV48ePbRs2TLddNNNkqSpU6cqIiJCgwYNksPhUG5url588UWfw6KQAwDQBGbPnv2T38fGxmrGjBmaMWOGX9ehkAMAwkKovo+cQg4ACAu8/czCWu53KqqF0+wwAABodiFRyAEAOCfD5vOCtQbHWxCFHAAQFkJ1jpwHwgAAEMTokQMAwkMzPxCmuVDIAQBhIaxXrS9atMjrE95xxx2NDgYAAPjGq0I+YMAAr05ms9nkdHIbGADAoiw6PO4Prwq5y+Vq6jgAAGhSoTq07teq9ZqamkDFAQBA0zICsFmQz4Xc6XTqiSee0Pnnn6+EhATt3r1bkjRhwoRzPiAeAAAEls+FfPLkyZo7d66efvppRUdHu9u7d++uV155JaDBAQAQOLYAbNbjcyGfN2+e/vKXv2jw4MGKjIx0t/fs2VNffPFFQIMDACBgGFo/5bvvvlOnTp0atLtcLtXV1QUkKAAA4B2fC3lWVpbWrFnToP2tt97SJZdcEpCgAAAIuBDtkfv8ZLdHH31UeXl5+u677+RyufTOO++otLRU8+bN05IlS5oiRgAA/Beibz/zuUfev39/LV68WP/4xz/UsmVLPfroo9qxY4cWL16sm266qSliBAAAZ9GoZ61fffXVWr58eaBjAQCgyYTqa0wb/dKUjRs3aseOHZJOzZtnZ2cHLCgAAAKOt5+d8u233+quu+7SJ598olatWkmSjh07pl/84heaP3++2rdvH+gYAQDAWfg8R37vvfeqrq5OO3bs0JEjR3TkyBHt2LFDLpdL9957b1PECACA/04vdvNnsyCfe+SrVq3Sp59+qi5durjbunTpoueff15XX311QIMDACBQbMapzZ/jrcjnQp6RkXHGB784nU6lp6cHJCgAAAIuROfIfR5af+aZZzRy5Eht3LjR3bZx40aNGjVKf/rTnwIaHAAA+Gle9ciTk5Nls/0wN1BdXa0+ffooKurU4fX19YqKitJvf/tbDRgwoEkCBQDALyH6QBivCvm0adOaOAwAAJpYiA6te1XI8/LymjoOAADQCI1+IIwk1dTUqLa21qMtKSnJr4AAAGgSIdoj93mxW3V1tUaMGKF27dqpZcuWSk5O9tgAALCkEH37mc+F/Pe//70+/PBDzZw5UzExMXrllVc0adIkpaena968eU0RIwAAOAufh9YXL16sefPm6brrrtPQoUN19dVXq1OnTurQoYNef/11DR48uCniBADAPyG6at3nHvmRI0d04YUXSjo1H37kyBFJ0lVXXaXVq1cHNjoAAALk9JPd/NmsyOce+YUXXqg9e/YoMzNTXbt21ZtvvqnLL79cixcvdr9EJRz07LRfd/Xdoi4Zh9Wm1Qn9YdbNWvPZBZKkyAiXhvfboCt+vlfpbY6r+mS0Npaer5fevVz/qmhpbuAW0W/IYf3ygYNKaVuv3dvj9OIfz1dpSbzZYVkKOfIOefIOeQpdPvfIhw4dqi1btkiSHn74Yc2YMUOxsbEaM2aMHnroIZ/OVVhYqMsuu0yJiYlq166dBgwYoNLSUl9DMkVsdJ12fdtaz7555Rm+q1fnjMN6bWlvDZsyUI+8fJMyU49pyv9dZkKk1nPtHUd138R9ev3ZNOXndtbu7bGaXLRb9tYNH/0brsiRd8iTd8jT91jsdsqYMWP0u9/9TpLUt29fffHFFyoqKtLmzZs1atQon861atUq5efna926dVq+fLnq6up08803q7q62tewmt367Zl6ZcllWrOlY4PvqmuiVfDC7fpo089UdrCVtn+dqqlvXKmuHQ6rXXKVCdFay8D7DmtpUYo+eCNFe3fGavq49nKctCn3riNmh2YZ5Mg75Mk75Cm0+XUfuSR16NBBHTp0aNSxS5cu9fg8d+5ctWvXTsXFxbrmmmv8Dc1SWsbVyuWSqk5Gmx2KqaJauHRRjxOa/0I7d5th2LR5TaKysk+YGJl1kCPvkCfvkKcf2OTn288CFklgeVXIp0+f7vUJT/fWG6OiokKSlJKScsbvHQ6HHA6H+3NlZWWjr9WcoqPq9cCAf+ofxZ10oia8C3lSilORUdKxQ57/9I4ejlJGJ8dZjgov5Mg75Mk75Cn0eVXIp06d6tXJbDZbowu5y+XS6NGjdeWVV6p79+5n3KewsFCTJk1q1PnNEhnh0qRh/5BNhv48/yqzwwGA8BWit595Vcj37NnT1HEoPz9fn3/+uT7++OOz7jN+/HgVFBS4P1dWViojI6PJY2usyAiXHh/2D6WlVGnU9P8T9r1xSao8EilnvdSqbb1He3Kbeh095PdMT0ggR94hT94hTz/CI1qbzogRI7RkyRJ99NFHat++/Vn3i4mJUVJSksdmVaeLePt2FRrz/O2qrI41OyRLqK+L0M7P4nXJVcfdbTaboV5XVWl7MbfCSOTIW+TJO+Qp9Jn6c8wwDI0cOVILFizQypUr1bFjwxXgVhUXU6fz21a4P5/XulKd2h9WZXWs/lURryeGL1fnjMMaN/MWRUQYSkk6taiksjpG9c5Is8K2hHf+0kZjp5Xpyy3xKt0crzuHH1JsvEsfzD/z2ohwRI68Q568Q56+F6I9clMLeX5+voqKivTuu+8qMTFR5eXlkiS73a64uDgzQzunLpmH9PzoJe7PI3+5TpL0/rrOevW9bF3d4xtJ0tw/vO1x3Mhp/0clO9ObL1ALWrUoWfbWTt3zULmS29Zr97Y4PTK4o44dbmF2aJZBjrxDnrxDnk7x9+lsVn2ym80wDNNCs9nOvHBgzpw5GjJkyDmPr6yslN1u1+X9nlBUC4auf0r8gvVmhwAADdQbdVqpd1VRUdFk06Wna8UFkycrIrbxtcJVU6OvH3mkSWNtDNOH1gEAaBYhOrTeqMVua9as0d13362cnBx99913kqS//vWvP7niHAAAU/GI1lPefvtt5ebmKi4uTps3b3Y/oKWiokJPPfVUwAMEAABn53Mhf/LJJ/XSSy/p5ZdfVosWPyyUuPLKK7Vp06aABgcAQKDwGtPvlZaWnvE56Ha7XceOHQtETAAABF6IPtnN5x55Wlqadu3a1aD9448/1oUXXhiQoAAACDjmyE8ZPny4Ro0apfXr18tms2nfvn16/fXXNXbsWD3wwANNESMAADgLn4fWH374YblcLt144406ceKErrnmGsXExGjs2LEaOXJkU8QIAIDfQvWBMD4XcpvNpkceeUQPPfSQdu3apaqqKmVlZSkhIaEp4gMAIDBC9D7yRj8QJjo6WllZWYGMBQAA+MjnQn799def9dGqkvThhx/6FRAAAE3C31vIQqVH3qtXL4/PdXV1Kikp0eeff668vLxAxQUAQGAxtH7K1KlTz9j+2GOPqaqqyu+AAACA9xr1rPUzufvuu/Xqq68G6nQAAARWiN5HHrC3n61du1axfrweDgCApsTtZ98bOHCgx2fDMLR//35t3LhREyZMCFhgAADg3Hwu5Ha73eNzRESEunTposcff1w333xzwAIDAADn5lMhdzqdGjp0qC6++GIlJyc3VUwAAAReiK5a92mxW2RkpG6++WbecgYACDqh+hpTn1etd+/eXbt3726KWAAAgI98LuRPPvmkxo4dqyVLlmj//v2qrKz02AAAsKwQu/VM8qGQP/7446qurtZtt92mLVu26I477lD79u2VnJys5ORktWrVinlzAIB1NfN95IWFhbrsssuUmJiodu3aacCAASotLfXYp6amRvn5+WrdurUSEhI0aNAgHThwwKfreL3YbdKkSbr//vv10Ucf+XQBAADC0apVq5Sfn6/LLrtM9fX1+sMf/qCbb75Z27dvV8uWLSVJY8aM0Xvvvae//e1vstvtGjFihAYOHKhPPvnE6+t4XcgN49RPkWuvvdbHPwUAAPM19wNhli5d6vF57ty5ateunYqLi3XNNdeooqJCs2fPVlFRkW644QZJ0pw5c9StWzetW7dOV1xxhVfX8WmO/KfeegYAgKUFaGj939eGORwOry5fUVEhSUpJSZEkFRcXq66uTn379nXv07VrV2VmZmrt2rVe/1k+3UfeuXPncxbzI0eO+HJKAACCSkZGhsfniRMn6rHHHvvJY1wul0aPHq0rr7xS3bt3lySVl5crOjparVq18tg3NTVV5eXlXsfjUyGfNGlSgye7AQAQDAI1tF5WVqakpCR3e0xMzDmPzc/P1+eff66PP/648QGchU+F/De/+Y3atWsX8CAAAGhyAXqyW1JSkkchP5cRI0ZoyZIlWr16tdq3b+9uT0tLU21trY4dO+bRKz9w4IDS0tK8Pr/Xc+TMjwMA4D3DMDRixAgtWLBAH374oTp27OjxfXZ2tlq0aKEVK1a420pLS7V3717l5OR4fR2fV60DABCUmvlZ6/n5+SoqKtK7776rxMRE97y33W5XXFyc7Ha7hg0bpoKCAqWkpCgpKUkjR45UTk6O1yvWJR8Kucvl8u0vAADAQpr79rOZM2dKkq677jqP9jlz5mjIkCGSpKlTpyoiIkKDBg2Sw+FQbm6uXnzxRZ+u4/NrTK2oRVW9oqLqzQ4DAGBlzdwj92YkOzY2VjNmzNCMGTMaGVQjnrUOAACsIyR65AAAnFOIvo+cQg4ACAvNPUfeXBhaBwAgiNEjBwCEB4bWAQAIXgytAwAAy6FHDgAIDwytAwAQxEK0kDO0DgBAEKNHDgAIC7bvN3+OtyIKOQAgPITo0DqFHAAQFrj9DAAAWA49cgBAeGBoHQCAIGfRYuwPhtYBAAhi9MgBAGEhVBe7UcgBAOEhROfIGVoHACCI0SMHAIQFhtYBAAhmDK0DAACroUcOAAgLDK0DABDMQnRonUIOAAgPIVrImSMHACCI0SMHAIQF5sgBAAhmDK0DAACroUcOAAgLNsOQzWh8t9qfY5sShbyRenQp169v26qLLjisNsknNWHajfpkU4cf7WFoyMDNuv26UiXE1+rzne00be4v9N0Bu2kxW0m/IYf1ywcOKqVtvXZvj9OLfzxfpSXxZodlKeTIO+TJO+RJDK03hZkzZ6pHjx5KSkpSUlKScnJy9P7775sZktdiY+r01d4UTZ+Xc8bvf3P7Vg28abumzv2F8if1U42jhf7noWVq0aK+mSO1nmvvOKr7Ju7T68+mKT+3s3Zvj9Xkot2yt64zOzTLIEfeIU/eIU+hzdRC3r59e02ZMkXFxcXauHGjbrjhBvXv31/btm0zMyyv/POzDL36drY+Lr7gDN8aGpS7Tf9vUU99uqmDdpelaMqsa9Sm1Uld1Xtvc4dqOQPvO6ylRSn64I0U7d0Zq+nj2stx0qbcu46YHZplkCPvkCfvkKdTTq9a92ezIlMLeb9+/XTbbbfpoosuUufOnTV58mQlJCRo3bp1Zoblt/PaHlfrVidVvC3d3VZ9Mlo7drdVVqeDJkZmvqgWLl3U44Q2rUl0txmGTZvXJCor+4SJkVkHOfIOefIOefoRIwCbBVlm1brT6dT8+fNVXV2tnJwzD1c7HA5VVlZ6bFaUYj8pSTpaEefRfrQiVimtTpoRkmUkpTgVGSUdO+S5POPo4Sglt2XaQSJH3iJP3iFPoc/0xW5bt25VTk6OampqlJCQoAULFigrK+uM+xYWFmrSpEnNHCEAIBSE6gNhTO+Rd+nSRSUlJVq/fr0eeOAB5eXlafv27Wfcd/z48aqoqHBvZWVlzRytd4583xNPtnv2vpPtNTpyLO5Mh4SNyiORctZLrf6tJ5Dcpl5HD5n+u9ISyJF3yJN3yNOPMLTeNKKjo9WpUydlZ2ersLBQPXv21HPPPXfGfWNiYtwr3E9vVrT/UKL+dSxOvbP2udviY2vV7cJD2r6rnYmRma++LkI7P4vXJVcdd7fZbIZ6XVWl7cVhdivMWZAj75An75CnH4TqYjfL/RxzuVxyOBxmh3FOsTF1Oj/1hzn689oe188y/6Xj1TE6+K8Evb3s57q7/xZ9d8Cu/YcSNHTQJh0+FqePN2WaGLU1vPOXNho7rUxfbolX6eZ43Tn8kGLjXfpgforZoVkGOfIOefIOeQptphby8ePH69Zbb1VmZqaOHz+uoqIirVy5UsuWLTMzLK906XhYU//wwz3vDw7+pyRp6ZpOevrlazT/vYsVG1OvgqGfKCG+Vlt3ttPDf8pVXZ3lfjs1u1WLkmVv7dQ9D5UruW29dm+L0yODO+rY4RZmh2YZ5Mg75Mk75Ol7IfpAGJthmPfMuWHDhmnFihXav3+/7Ha7evTooXHjxummm27y6vjKykrZ7XZdef1ERUXFNnG0wa3FP4rNDgEAGqg36rRS76qioqLJpktP14rsX01WVIvG14r6uhoVv/lIk8baGKZ2D2fPnm3m5QEACHqM8wIAwoNhnNr8Od6CKOQAgLDAfeQAAMBy6JEDAMJDiK5ap5ADAMKCzXVq8+d4K2JoHQCAIEaPHAAQHhhaBwAgeIXqqnUKOQAgPITofeTMkQMAEMTokQMAwgJD6wAABLMQXezG0DoAAEGMHjkAICwwtA4AQDBj1ToAALAaeuQAgLDA0DoAAMGMVesAAMBq6JEDAMICQ+sAAAQzl3Fq8+d4C6KQAwDCA3PkAADAaijkAICwYNMP8+SN2ny83urVq9WvXz+lp6fLZrNp4cKFHt8bhqFHH31U5513nuLi4tS3b1/t3LnT57+LQg4ACA+nn+zmz+aD6upq9ezZUzNmzDjj908//bSmT5+ul156SevXr1fLli2Vm5urmpoan67DHDkAAE3g1ltv1a233nrG7wzD0LRp0/THP/5R/fv3lyTNmzdPqampWrhwoX7zm994fR165ACAsODXsPqPbl2rrKz02BwOh8+x7NmzR+Xl5erbt6+7zW63q0+fPlq7dq1P56KQAwDCgxGATVJGRobsdrt7Kyws9DmU8vJySVJqaqpHe2pqqvs7bzG0DgCAD8rKypSUlOT+HBMTY2I09MgBAGHCZhh+b5KUlJTksTWmkKelpUmSDhw44NF+4MAB93feCokeedzOg4qKMPcXkdXVmx0AAJjN9f3mz/EB0rFjR6WlpWnFihXq1auXpFNz7+vXr9cDDzzg07lCopADAGA1VVVV2rVrl/vznj17VFJSopSUFGVmZmr06NF68sknddFFF6ljx46aMGGC0tPTNWDAAJ+uQyEHAISFHw+PN/Z4X2zcuFHXX3+9+3NBQYEkKS8vT3PnztXvf/97VVdX67777tOxY8d01VVXaenSpYqNjfXpOhRyAEB4aOZnrV933XUyfqL422w2Pf7443r88cf9CIpCDgAIF414OluD4y2IVesAAAQxeuQAgLDw46ezNfZ4K6KQAwDCA0PrAADAauiRAwDCgs11avPneCuikAMAwgND6wAAwGrokQMAwkMzPxCmuVDIAQBhobkf0dpcGFoHACCI0SMHAISHEF3sRiEHAIQHQ/69U9yadZxCDgAID8yRAwAAy6FHDgAID4b8nCMPWCQBRSEHAISHEF3sxtA6AABBjB45ACA8uCTZ/DzegijkAICwwKp1AABgOfTIAQDhIUQXu1HIAQDhIUQLOUPrAAAEMXrkAIDwEKI9cgo5ACA8cPsZAADBi9vPAACA5VDIm8B/3LNL761/T8PHbDM7FMvqN+SwXlu/XYt3f6bnluxUl14nzA7JcsiRd8iTd8iTfpgj92ezIMsU8ilTpshms2n06NFmh+KXi7od0y137tXunYlmh2JZ195xVPdN3KfXn01Tfm5n7d4eq8lFu2VvXWd2aJZBjrxDnrxDnr7nMvzfLMgShXzDhg2aNWuWevToYXYofomNq9dDj5fo+ad6qKqyhdnhWNbA+w5raVGKPngjRXt3xmr6uPZynLQp964jZodmGeTIO+TJO+QptJleyKuqqjR48GC9/PLLSk5ONjscvzzw0Ofa8Ek7lWxoY3YolhXVwqWLepzQpjU/jFgYhk2b1yQqKzsMh/rOgBx5hzx5hzz9CEPrTSM/P1+33367+vbte859HQ6HKisrPTaruOamferUpVJzX+xidiiWlpTiVGSUdOyQ5w0TRw9HKbltvUlRWQs58g558g55+jF/i7g1C7mpt5/Nnz9fmzZt0oYNG7zav7CwUJMmTWriqHzXpt1J3VewTX8c2Ud1tZFmhwMACCOmFfKysjKNGjVKy5cvV2xsrFfHjB8/XgUFBe7PlZWVysjIaKoQvdapa4WSU2o1/bWP3W2RUYa6X3JE/X75jQZcfatcLn+eQhA6Ko9Eylkvtfq3nkBym3odPcRjDSRy5C3y5B3y9CM82S2wiouLdfDgQfXu3dvd5nQ6tXr1ar3wwgtyOByKjPTs3cbExCgmJqa5Qz2nLRvb6MG7rvFoGz1hi779JkFvzfsZRfxH6usitPOzeF1y1XGtXWqXJNlshnpdVaVFc1ubHJ01kCPvkCfvkKcfcfk5PG7RVeumFfIbb7xRW7du9WgbOnSounbtqnHjxjUo4lZ28kSUvtntebtZzclIVVa0aNAO6Z2/tNHYaWX6cku8SjfH687hhxQb79IH81PMDs0yyJF3yJN3yFNoM62QJyYmqnv37h5tLVu2VOvWrRu0I7SsWpQse2un7nmoXMlt67V7W5weGdxRxw5zy95p5Mg75Mk75Ol7huvU5s/xFhRmEyTNZ/yDOWaHYGmL5rTRojncpvdTyJF3yJN3yJOYI28OK1euNDsEAECoCtE5ctPvIwcAAI1nqR45AABNhqF1AACCmCE/C3nAIgkohtYBAAhi9MgBAOGBoXUAAIKYyyXJj3vBXda8j5yhdQAAghg9cgBAeGBoHQCAIBaihZyhdQAAghg9cgBAeAjRR7RSyAEAYcEwXDL8eIOZP8c2JQo5ACA8GIZ/vWrmyAEAQKDRIwcAhAfDzzlyi/bIKeQAgPDgckk2P+a5LTpHztA6AABBjB45ACA8MLQOAEDwMlwuGX4MrVv19jOG1gEACGL0yAEA4YGhdQAAgpjLkGyhV8gZWgcAIIjRIwcAhAfDkOTPfeTW7JFTyAEAYcFwGTL8GFo3KOQAAJjIcMm/Hjm3nwEAEHZmzJihCy64QLGxserTp4/++c9/BvT8FHIAQFgwXIbfm6/eeOMNFRQUaOLEidq0aZN69uyp3NxcHTx4MGB/F4UcABAeDJf/m4+effZZDR8+XEOHDlVWVpZeeuklxcfH69VXXw3YnxXUc+SnFx7Uu2pNjsT66o06s0MAgAbqdeq/Tc2xkKxedX49D+Z0rJWVlR7tMTExiomJabB/bW2tiouLNX78eHdbRESE+vbtq7Vr1zY+kH8T1IX8+PHjkqSV+2abHAkAwB/Hjx+X3W5vknNHR0crLS1NH5f/3e9zJSQkKCMjw6Nt4sSJeuyxxxrse/jwYTmdTqWmpnq0p6am6osvvvA7ltOCupCnp6errKxMiYmJstlsZocj6dQvtYyMDJWVlSkpKcnscCyLPHmHPHmHPHnHinkyDEPHjx9Xenp6k10jNjZWe/bsUW2t/6O3hmE0qDdn6o03p6Au5BEREWrfvr3ZYZxRUlKSZf6PYmXkyTvkyTvkyTtWy1NT9cR/LDY2VrGxsU1+nR9r06aNIiMjdeDAAY/2AwcOKC0tLWDXYbEbAABNIDo6WtnZ2VqxYoW7zeVyacWKFcrJyQnYdYK6Rw4AgJUVFBQoLy9Pl156qS6//HJNmzZN1dXVGjp0aMCuQSEPsJiYGE2cONH0OROrI0/eIU/eIU/eIU/N79e//rUOHTqkRx99VOXl5erVq5eWLl3aYAGcP2yGVR8eCwAAzok5cgAAghiFHACAIEYhBwAgiFHIAQAIYhTyAGvq19UFu9WrV6tfv35KT0+XzWbTwoULzQ7JkgoLC3XZZZcpMTFR7dq104ABA1RaWmp2WJYzc+ZM9ejRw/2Ak5ycHL3//vtmh2VpU6ZMkc1m0+jRo80OBQFCIQ+g5nhdXbCrrq5Wz549NWPGDLNDsbRVq1YpPz9f69at0/Lly1VXV6ebb75Z1dXVZodmKe3bt9eUKVNUXFysjRs36oYbblD//v21bds2s0OzpA0bNmjWrFnq0aOH2aEggLj9LID69Omjyy67TC+88IKkU0/wycjI0MiRI/Xwww+bHJ312Gw2LViwQAMGDDA7FMs7dOiQ2rVrp1WrVumaa64xOxxLS0lJ0TPPPKNhw4aZHYqlVFVVqXfv3nrxxRf15JNPqlevXpo2bZrZYSEA6JEHyOnX1fXt29fd1hSvq0N4qqiokHSqSOHMnE6n5s+fr+rq6oA+/jJU5Ofn6/bbb/f4bxRCA092C5Dmel0dwo/L5dLo0aN15ZVXqnv37maHYzlbt25VTk6OampqlJCQoAULFigrK8vssCxl/vz52rRpkzZs2GB2KGgCFHLA4vLz8/X555/r448/NjsUS+rSpYtKSkpUUVGht956S3l5eVq1ahXF/HtlZWUaNWqUli9f3uxv/0LzoJAHSHO9rg7hZcSIEVqyZIlWr15t2Vf2mi06OlqdOnWSJGVnZ2vDhg167rnnNGvWLJMjs4bi4mIdPHhQvXv3drc5nU6tXr1aL7zwghwOhyIjI02MEP5ijjxAmut1dQgPhmFoxIgRWrBggT788EN17NjR7JCChsvlksPhMDsMy7jxxhu1detWlZSUuLdLL71UgwcPVklJCUU8BNAjD6DmeF1dsKuqqtKuXbvcn/fs2aOSkhKlpKQoMzPTxMisJT8/X0VFRXr33XeVmJio8vJySZLdbldcXJzJ0VnH+PHjdeuttyozM1PHjx9XUVGRVq5cqWXLlpkdmmUkJiY2WFvRsmVLtW7dmjUXIYJCHkDN8bq6YLdx40Zdf/317s8FBQWSpLy8PM2dO9ekqKxn5syZkqTrrrvOo33OnDkaMmRI8wdkUQcPHtQ999yj/fv3y263q0ePHlq2bJluuukms0MDmg33kQMAEMSYIwcAIIhRyAEACGIUcgAAghiFHACAIEYhBwAgiFHIAQAIYhRyAACCGIUcAIAgRiEH/DRkyBANGDDA/fm6667T6NGjmz2OlStXymaz6dixY2fdx2azaeHChV6f87HHHlOvXr38iuvrr7+WzWZTSUmJX+cBcGYUcoSkIUOGyGazyWazud+O9fjjj6u+vr7Jr/3OO+/oiSee8Gpfb4ovAPwUnrWOkHXLLbdozpw5cjgc+vvf/678/Hy1aNFC48ePb7BvbW2toqOjA3LdlJSUgJwHALxBjxwhKyYmRmlpaerQoYMeeOAB9e3bV4sWLZL0w3D45MmTlZ6eri5dukiSysrK9Ktf/UqtWrVSSkqK+vfvr6+//tp9TqfTqYKCArVq1UqtW7fW73//e/376wr+fWjd4XBo3LhxysjIUExMjDp16qTZs2fr66+/dr9AJjk5WTabzf1CFJfLpcLCQnXs2FFxcXHq2bOn3nrrLY/r/P3vf1fnzp0VFxen66+/3iNOb40bN06dO3dWfHy8LrzwQk2YMEF1dXUN9ps1a5YyMjIUHx+vX/3qV6qoqPD4/pVXXlG3bt0UGxurrl276sUXX/Q5FgCNQyFH2IiLi1Ntba3784oVK1RaWqrly5dryZIlqqurU25urhITE7VmzRp98sknSkhI0C233OI+7s9//rPmzp2rV199VR9//LGOHDmiBQsW/OR177nnHv3v//6vpk+frh07dmjWrFlKSEhQRkaG3n77bUlSaWmp9u/fr+eee06SVFhYqHnz5umll17Stm3bNGbMGN19991atWqVpFM/OAYOHKh+/fqppKRE9957rx5++GGfc5KYmKi5c+dq+/bteu655/Tyyy9r6tSpHvvs2rVLb775phYvXqylS5dq8+bNevDBB93fv/7663r00Uc1efJk7dixQ0899ZQmTJig1157zed4ADSCAYSgvLw8o3///oZhGIbL5TKWL19uxMTEGGPHjnV/n5qaajgcDvcxf/3rX40uXboYLpfL3eZwOIy4uDhj2bJlhmEYxnnnnWc8/fTT7u/r6uqM9u3bu69lGIZx7bXXGqNGjTIMwzBKS0sNScby5cvPGOdHH31kSDKOHj3qbqupqTHi4+ONTz/91GPfYcOGGXfddZdhGIYxfvx4Iysry+P7cePGNTjXv5NkLFiw4KzfP/PMM0Z2drb788SJE43IyEjj22+/dbe9//77RkREhLF//37DMAzjZz/7mVFUVORxnieeeMLIyckxDMMw9uzZY0gyNm/efNbrAmg85sgRspYsWaKEhATV1dXJ5XLpP//zP/XYY4+5v7/44os95sW3bNmiXbt2KTEx0eM8NTU1+uqrr1RRUaH9+/erT58+7u+ioqJ06aWXNhheP62kpESRkZG69tprvY57165dOnHiRIN3atfW1uqSSy6RJO3YscMjDknKycnx+hqnvfHGG5o+fbq++uorVVVVqb6+XklJSR77ZGZm6vzzz/e4jsvlUmlpqRITE/XVV19p2LBhGj58uHuf+vp62e12n+MB4DsKOULW9ddfr5kzZyo6Olrp6emKivL8596yZUuPz1VVVcrOztbrr7/e4Fxt27ZtVAxxcXE+H1NVVSVJeu+99zwKqHRq3j9Q1q5dq8GDB2vSpEnKzc2V3W7X/Pnz9ec//9nnWF9++eUGPywiIyMDFiuAs6OQI2S1bNlSnTp18nr/3r1764033lC7du0a9EpPO++887R+/Xpdc801kk71PIuLi9W7d+8z7n/xxRfL5XJp1apV6tu3b4PvT48IOJ1Od1tWVpZiYmK0d+/es/bku3Xr5l64d9q6devO/Uf+yKeffqoOHTrokUcecbd98803Dfbbu3ev9u3bp/T0dPd1IiIi1KVLF6Wmpio9PV27d+/W4MGDfbo+gMBgsRvwvcGDB6tNmzbq37+/1qxZoz179mjlypX63e9+p2+//VaSNGrUKE2ZMkULFy7UF198oQcffPAn7wG/4IILlJeXp9/+9rdauHCh+5xvvvmmJKlDhw6y2WxasmSJDh06pKqqKiUmJmrs2LEaM2aMXnvtNX311VfatGmTnn/+efcCsvvvv187d+7UQw89pNLSUhUVFWnu3Lk+/b0XXXSR9u7dq/nz5+urr77S9OnTz7hwLzY2Vnl5edqyZYvWrFmj3/3ud/rVr36ltLQ0SdKkSZNUWFio6dOn68svv9TWrVs1Z84cPfvssz7FA6BxKOTA9+Lj47V69WplZmZq4MCB6tatm4YNG6aamhp3D/2///u/9V//9V/Ky8tTTk6OEhMTdeedd/7keWfOnKlf/vKXevDBB9W1a1cNHz5c1dXVkqTzzz9fkyZN0sMPP6zU1FSNGDFCkvTEE09owoQJKiwsVLdu3XTLLbfovffeU8eOHSWdmrd+++23tXDhQvXs2VMvvfSSnnrqKZ/+3jvuuENjxozRiBEj1KtXL3366aeaMGFCg/06deqkgQMH6rbbbtPNN9+sHj16eNxedu+99+qVV17RnDlzdPHFF+vaa6/V3Llz3bECaFo242yrdAAAgOXRIwcAIIhRyAEACGIUcgAAghiFHACAIEYhBwAgiFHIAQAIYhRyAACCGIUcAIAgRiEHACCIUcgBAAhiFHIAAILY/wfJrog1U35lcwAAAABJRU5ErkJggg==",
      "text/plain": [
       "<Figure size 640x480 with 2 Axes>"
      ]
     },
     "metadata": {},
     "output_type": "display_data"
    }
   ],
   "source": [
    "#Q2 the log regrssion score went significantly down to 0.04 and the KNN stayed the same. This suggests that KNN is \n",
    "# resistant to underfitting.#The confusion matrixes displayed below shows that the logistic regression with the underfitting+SMOTE is somewhat accurate but only \n",
    "#with increasing predicted labels and this represents the true negative values. The KNN confusion matrix shows how KNN is resistant to\n",
    "#underfitting and we get another True Negative. \n",
    "from sklearn.linear_model import LogisticRegression\n",
    "from sklearn.neighbors import KNeighborsClassifier\n",
    "from sklearn.model_selection import train_test_split\n",
    "from sklearn.preprocessing import StandardScaler\n",
    "from imblearn.over_sampling import SMOTE\n",
    "from imblearn.under_sampling import ClusterCentroids\n",
    "from sklearn.metrics import ConfusionMatrixDisplay\n",
    "logistic_model = LogisticRegression(random_state=42).fit(X_resampled, y_resampled)\n",
    "y_pred_logistic = logistic_model.predict(X_test_scaled)\n",
    "ConfusionMatrixDisplay.from_estimator(logistic_model, X_test_scaled, y_test)\n",
    "print(\"Logistic Regression Score:\", logistic_model.score(X_test_scaled, y_test))\n",
    "\n",
    "knn_model = KNeighborsClassifier(n_neighbors=13).fit(X_resampled, y_resampled)\n",
    "y_pred_knn = knn_model.predict(X_test_scaled)\n",
    "ConfusionMatrixDisplay.from_estimator(knn_model, X_test_scaled, y_test)\n",
    "print(\"KNN Score:\", knn_model.score(X_test_scaled, y_test))\n"
   ]
  },
  {
   "cell_type": "code",
   "execution_count": 79,
   "id": "961053de",
   "metadata": {},
   "outputs": [
    {
     "name": "stdout",
     "output_type": "stream",
     "text": [
      "False Positive Rate: [0.         0.01351351 0.02702703 0.02702703 0.06756757 0.06756757\n",
      " 0.12162162 0.12162162 0.25675676 0.25675676 0.28378378 0.28378378\n",
      " 0.36486486 0.36486486 0.55405405 0.55405405 0.58108108 0.58108108\n",
      " 0.62162162 0.62162162 0.63513514 0.63513514 0.72972973 0.72972973\n",
      " 0.74324324 0.74324324 0.7972973  0.7972973  0.89189189 0.89189189\n",
      " 0.90540541 0.90540541 1.         1.        ]\n",
      "True Positive Rate: [0.         0.         0.         0.05882353 0.05882353 0.11764706\n",
      " 0.11764706 0.17647059 0.17647059 0.23529412 0.23529412 0.29411765\n",
      " 0.29411765 0.41176471 0.41176471 0.47058824 0.47058824 0.52941176\n",
      " 0.52941176 0.58823529 0.58823529 0.64705882 0.64705882 0.70588235\n",
      " 0.70588235 0.76470588 0.76470588 0.82352941 0.82352941 0.88235294\n",
      " 0.88235294 0.94117647 0.94117647 1.        ]\n",
      "Thresholds: [           inf 9.68047484e-01 9.28691505e-01 9.18387968e-01\n",
      " 7.93527389e-01 7.83198236e-01 3.86666780e-01 3.78894805e-01\n",
      " 2.13282574e-01 1.92135184e-01 1.81886456e-01 1.78854409e-01\n",
      " 1.41562403e-01 1.10346391e-01 4.64521892e-02 4.64170367e-02\n",
      " 2.93005539e-02 2.80128171e-02 1.86851926e-02 1.68171600e-02\n",
      " 1.67213641e-02 1.54446460e-02 1.21717414e-02 1.21213018e-02\n",
      " 1.15412103e-02 9.85651864e-03 6.35422113e-03 6.22291019e-03\n",
      " 2.99822441e-03 2.85388118e-03 2.66468335e-03 2.51407816e-03\n",
      " 7.32451583e-04 3.28576317e-04]\n"
     ]
    }
   ],
   "source": [
    "#Q3\n",
    "#I couldn't use a numpy array like what was intially discussed in the example so I had to train the score w a probability value instead.\n",
    "#The false Positive rates were fairly close to 0. and became 1 towards the end meaning that the more it ran the more inaccurate the data was\n",
    "#The True positive rates have less 1 values meaning that true positives were fairly accurate. The Thresholds is entirely dependent on the accuracy\n",
    "# of the tpr and fpr and as a result is fairly good.  \n",
    " heart_disease = pd.Heart_disease9{[true_label': [1,0,1,0,1],'predicted_probability':[0.8,0.3,0.6,0.2,0.7]})
    "scores = heart_disease['predicted_probability] \n",
    "fpr, tpr, thresholds = roc_curve(y_test, scores, pos_label=1)  \n",
    "roc_auc = auc(fpr, tpr) \n",
    "print(\"False Positive Rate:\", fpr)\n",
    "print(\"True Positive Rate:\", tpr)\n",
    "print(\"Thresholds:\", thresholds)\n"
   ]
  },
  {
   "cell_type": "code",
   "execution_count": 76,
   "id": "9ee8ba47",
   "metadata": {},
   "outputs": [
    {
     "name": "stdout",
     "output_type": "stream",
     "text": [
      "Intercept: [ 0.0668946  -0.75906161 -0.84155348 -0.79282974 -0.92872739]\n",
      "Coeff: [[-0.16304087  0.01723814  0.24631864 ...  0.15949452  0.01422472\n",
      "  -0.08336701]\n",
      " [ 0.12832481  0.02424314 -0.14022719 ...  0.04606159 -0.04658595\n",
      "  -0.0210768 ]\n",
      " [ 0.12905924 -0.01237501 -0.01708995 ... -0.16167015  0.0418129\n",
      "   0.04299098]\n",
      " [-0.11603048  0.02366353 -0.0028891  ... -0.01570284 -0.05231655\n",
      "   0.0414532 ]\n",
      " [ 0.03073773  0.00297735  0.0045313  ... -0.02956595  0.05588175\n",
      "   0.01069136]]\n",
      "Pipeline(steps=[('standardscaler', StandardScaler()),\n",
      "                ('linearsvc', LinearSVC(random_state=0, tol=1e-05))])\n",
      "SVM Precision (Macro): 0.15\n"
     ]
    },
    {
     "name": "stderr",
     "output_type": "stream",
     "text": [
      "c:\\Users\\19133\\CSCI\\du_install\\lib\\site-packages\\sklearn\\metrics\\_classification.py:1531: UndefinedMetricWarning: Precision is ill-defined and being set to 0.0 in labels with no predicted samples. Use `zero_division` parameter to control this behavior.\n",
      "  _warn_prf(average, modifier, f\"{metric.capitalize()} is\", len(result))\n"
     ]
    }
   ],
   "source": [
    "#Q4\n",
    "#SVC performed well there was a 51% chanfe that the linear was right\n",
    "import pandas as pd\n",
    "import numpy as np\n",
    "from sklearn.pipeline import make_pipeline\n",
    "from sklearn.preprocessing import StandardScaler\n",
    "from sklearn.svm import LinearSVC, OneClassSVM\n",
    "from sklearn.model_selection import train_test_split\n",
    "from sklearn.metrics import precision_score\n",
    "from ucimlrepo import fetch_ucirepo \n",
    "clf = make_pipeline(StandardScaler(), LinearSVC(random_state=0, tol=1e-5))\n",
    "clf.fit(X_train, y_train)\n",
    "print(\"Intercept:\", clf.named_steps['linearsvc'].intercept_)\n",
    "print(\"Coeff:\", clf.named_steps['linearsvc'].coef_)\n",
    "print(clf)\n",
    "\n",
    "# OUTLIER PART-Used one classSVM because it was the easiest one in the article, also I had to specify that \n",
    "# the average was macro because it was a multiclass and the error read need to specify average\n",
    "clf_svm = OneClassSVM(gamma='auto')\n",
    "clf_svm.fit(X_train)\n",
    "y_pred_svm = clf_svm.predict(X_test)\n",
    "pred = pd.DataFrame({'true_labels': y_test, 'predictions': y_pred_svm})\n",
    "pred['svm'] = y_pred_svm\n",
    "pred['svm_pred'] = np.where(pred['svm'] == -1, 0, 1)  \n",
    "y_pred_svm = pred['svm_pred']\n",
    "precision_macro = precision_score(y_test, y_pred_svm, average='macro')\n",
    "print(\"SVM Precision (Macro):\", precision_macro)\n",
    "\n"
   ]
  },
  {
   "cell_type": "markdown",
   "id": "768b6070",
   "metadata": {},
   "source": [
    "#Q5.Outlier detection is really important so we can determine if there is skew in our data, also you don't want to delete all outliers\n",
    "because they are important, we do want to have natural outliers so our programs can account for natural anomilies."
   ]
  }
 ],
 "metadata": {
  "kernelspec": {
   "display_name": "du_install",
   "language": "python",
   "name": "python3"
  },
  "language_info": {
   "codemirror_mode": {
    "name": "ipython",
    "version": 3
   },
   "file_extension": ".py",
   "mimetype": "text/x-python",
   "name": "python",
   "nbconvert_exporter": "python",
   "pygments_lexer": "ipython3",
   "version": "3.9.1"
  }
 },
 "nbformat": 4,
 "nbformat_minor": 5
}
