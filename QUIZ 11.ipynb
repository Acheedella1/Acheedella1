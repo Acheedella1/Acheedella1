{
 "cells": [
  {
   "cell_type": "markdown",
   "metadata": {},
   "source": [
    "Q1. (2 pts) Create a function that accepts a list of values. Filter out all values that are numeric and return the new list.\n",
    "Input:\n",
    "[1,2,'a','b',7.6]\n",
    "\n",
    "output: [‘a’,’b’]"
   ]
  },
  {
   "cell_type": "code",
   "execution_count": 9,
   "metadata": {},
   "outputs": [
    {
     "name": "stdout",
     "output_type": "stream",
     "text": [
      "['a', 'b']\n"
     ]
    }
   ],
   "source": [
    "list= [1,2,'a','b',7.6]\n",
    "filter_list = [x for x in list if not isinstance(x, (int,float))]\n",
    "print(filter_list)"
   ]
  },
  {
   "cell_type": "markdown",
   "metadata": {},
   "source": [
    "Q2. (3 pts) Write a clean solution to fizzbuzz that we did in a previous class that uses default arguments, typing, a docstring, and useful comments.\n",
    "takes in a value and returns all values from 1 to that number. If they are divisible by 3, it returns that number and fizz, if they are divisible by 5, it returns that number and buzz, and if they are divisible by both it returns that number and fizzbuzz."
   ]
  },
  {
   "cell_type": "code",
   "execution_count": 8,
   "metadata": {},
   "outputs": [
    {
     "data": {
      "text/plain": [
       "[1,\n",
       " 2,\n",
       " '3: fizz',\n",
       " 4,\n",
       " '5: buzz',\n",
       " '6: fizz',\n",
       " 7,\n",
       " 8,\n",
       " '9: fizz',\n",
       " '10: buzz',\n",
       " 11,\n",
       " '12: fizz',\n",
       " 13,\n",
       " 14,\n",
       " '15: fizzbuzz',\n",
       " 16,\n",
       " 17,\n",
       " '18: fizz',\n",
       " 19,\n",
       " '20: buzz']"
      ]
     },
     "execution_count": 8,
     "metadata": {},
     "output_type": "execute_result"
    }
   ],
   "source": [
    "def fizzbuzz(n=int):\n",
    "    for i in range (1,n+1):\n",
    "        result = []\n",
    "        for i in range(1, n + 1):\n",
    "            if i % 3 == 0  and i % 5 == 0:\n",
    "                result.append(f\"{i}: fizzbuzz\")\n",
    "            elif  i % 3 == 0:\n",
    "                result.append(f\"{i}: fizz\")\n",
    "            elif i % 5 == 0:\n",
    "                result.append(f\"{i}: buzz\")\n",
    "            else:\n",
    "                result.append(i)\n",
    "    return result\n",
    "fizzbuzz(20)"
   ]
  }
 ],
 "metadata": {
  "kernelspec": {
   "display_name": "Python 3",
   "language": "python",
   "name": "python3"
  },
  "language_info": {
   "codemirror_mode": {
    "name": "ipython",
    "version": 3
   },
   "file_extension": ".py",
   "mimetype": "text/x-python",
   "name": "python",
   "nbconvert_exporter": "python",
   "pygments_lexer": "ipython3",
   "version": "3.9.1"
  }
 },
 "nbformat": 4,
 "nbformat_minor": 2
}
