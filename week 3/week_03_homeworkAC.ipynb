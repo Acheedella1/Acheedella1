{
 "cells": [
  {
   "cell_type": "markdown",
   "metadata": {},
   "source": [
    "### Homework 3 Numpy Arrays and Pandas\n",
    "\n",
    "1. Open `cars.csv` in jupyter and look at the data. (Double click `cars.csv` to open in a new tab).\n",
    "2. We are converting each **column** into a numpy array.\n",
    "3. Notice we have text, integer and float data. \n",
    "4. Take care not to overwrite your starter code."
   ]
  },
  {
   "cell_type": "code",
   "execution_count": 35,
   "metadata": {},
   "outputs": [],
   "source": [
    "#Starter code. Do NOT modify this cell\n",
    "import pandas as pd\n",
    "import numpy as np\n",
    "\n",
    "# Read in dataset\n",
    "df = pd.read_csv('cars.csv',delimiter=';')\n",
    "\n",
    "# Convert each column to an np.array\n",
    "car = df.Car.to_numpy()\n",
    "mpg = df.MPG.to_numpy()\n",
    "cylinders = df.Cylinders.to_numpy()\n",
    "displacement = df.Displacement.to_numpy()\n",
    "horsepower = df.Horsepower.to_numpy()\n",
    "weight = df.Weight.to_numpy()\n",
    "acceleration = df.Acceleration.to_numpy()\n",
    "model = df.Model.to_numpy()\n",
    "origin = df.Origin.to_numpy()\n",
    "\n",
    "# create an array of headers\n",
    "headers = np.array(['Car', 'MPG', 'Cylinders', 'Displacement', 'Horsepower', 'Weight','Acceleration', 'Model', 'Origin'])\n"
   ]
  },
  {
   "cell_type": "markdown",
   "metadata": {},
   "source": [
    "1. (2 pts) What are the numpy datatypes for the `car`,`mpg`, `horsepower` and `origin` arrays? (Hint: Not `type(car)` and use `print()` to print the numpy type.)"
   ]
  },
  {
   "cell_type": "code",
   "execution_count": 28,
   "metadata": {},
   "outputs": [
    {
     "name": "stdout",
     "output_type": "stream",
     "text": [
      "{'Car dtype': dtype('O'), 'MPG dtype': dtype('float64'), 'Horsepower dtype': dtype('float64'), 'Origin dtype': dtype('O')}\n"
     ]
    }
   ],
   "source": [
    "dtypes = {\n",
    "    'Car dtype': car.dtype,\n",
    "    'MPG dtype': mpg.dtype,\n",
    "    'Horsepower dtype': horsepower.dtype,\n",
    "    'Origin dtype': origin.dtype\n",
    "}\n",
    "print(dtypes)"
   ]
  },
  {
   "cell_type": "markdown",
   "metadata": {},
   "source": [
    "2. (1 pt) `numpy` is often imported as `np`. What is this action called? Why might you do this? "
   ]
  },
  {
   "cell_type": "code",
   "execution_count": null,
   "metadata": {},
   "outputs": [],
   "source": [
    "#This is an alias and its used to give a nickname to what would otherwise take time to type. "
   ]
  },
  {
   "cell_type": "markdown",
   "metadata": {},
   "source": [
    "3. (2 pts) Each of the arrays (cars, mpg, cylinders, etc..) has how many dimensions? Show how to find this using code. "
   ]
  },
  {
   "cell_type": "code",
   "execution_count": 10,
   "metadata": {},
   "outputs": [
    {
     "name": "stdout",
     "output_type": "stream",
     "text": [
      "cars has 1 dimensions\n",
      "mpg has 1 dimensions\n"
     ]
    },
    {
     "data": {
      "text/plain": [
       "'cylinders has 1 dimensions'"
      ]
     },
     "execution_count": 10,
     "metadata": {},
     "output_type": "execute_result"
    }
   ],
   "source": [
    "import numpy as np\n",
    "cars= np.array(['Biuck','Jaguar','Mustang'])\n",
    "mpg = np.array([36, 43, 59, 159])\n",
    "cylinders = np.array([4, 6, 8])\n",
    "\n",
    "print(f\"cars has {cars.ndim} dimensions\")\n",
    "print(f\"mpg has {mpg.ndim} dimensions\")\n",
    "(f\"cylinders has {cylinders.ndim} dimensions\")"
   ]
  },
  {
   "cell_type": "markdown",
   "metadata": {},
   "source": [
    "4. (3 pts) What is the ___ of `horsepower`?\n",
    "- sum\n",
    "- min\n",
    "- max\n",
    "- median\n",
    "- Optional: mode (May need to google help) (1 pt extra credit)"
   ]
  },
  {
   "cell_type": "code",
   "execution_count": 47,
   "metadata": {
    "scrolled": true
   },
   "outputs": [
    {
     "name": "stdout",
     "output_type": "stream",
     "text": [
      "Sum of horsepower: 42033.0\n",
      "Minimum horsepower: 0.0\n",
      "Maximum horsepower: 230.0\n",
      "Median horsepower: 93.5\n",
      "Mode of horsepower: 150.0\n"
     ]
    }
   ],
   "source": [
    "#The sum of horsepower 42033.0, the minimum of horsepower is 0, The maximum of horsepower is 230, the median of horsepower is 93.5,and the mode of horsepower is 150.\n",
    "import pandas as pd\n",
    "df = pd.read_csv('cars.csv')\n",
    "df.head()\n",
    "cars_df = pd.read_csv('cars.csv', delimiter=';')\n",
    "horsepower_sum = cars_df['Horsepower'].sum()\n",
    "horsepower_min = cars_df['Horsepower'].min()\n",
    "horsepower_max = cars_df['Horsepower'].max()\n",
    "horsepower_median = cars_df['Horsepower'].median()\n",
    "horsepower_mode = cars_df['Horsepower'].mode()[0]  \n",
    "print(f\"Sum of horsepower: {horsepower_sum}\")\n",
    "print(f\"Minimum horsepower: {horsepower_min}\")\n",
    "print(f\"Maximum horsepower: {horsepower_max}\")\n",
    "print(f\"Median horsepower: {horsepower_median}\")\n",
    "print(f\"Mode of horsepower: {horsepower_mode}\")"
   ]
  },
  {
   "cell_type": "markdown",
   "metadata": {},
   "source": [
    "5. (2 pts) Select the last element in each subarray (do this with one operation.)"
   ]
  },
  {
   "cell_type": "code",
   "execution_count": 21,
   "metadata": {},
   "outputs": [],
   "source": [
    "select_more = np.array([[1,2,3],\n",
    "                      [4,5,6],\n",
    "                      [7,8,9]])\n",
    "# returns array([3, 6, 9])"
   ]
  },
  {
   "cell_type": "code",
   "execution_count": 33,
   "metadata": {},
   "outputs": [
    {
     "name": "stdout",
     "output_type": "stream",
     "text": [
      "[3 6 9]\n"
     ]
    }
   ],
   "source": [
    "import numpy as np\n",
    "\n",
    "select_more = np.array([[1, 2, 3],\n",
    "                        [4, 5, 6],\n",
    "                        [7, 8, 9]])\n",
    "\n",
    "reshaped_array = select_more.reshape(-1)\n",
    "\n",
    "result = reshaped_array[2::3]\n",
    "\n",
    "print(result)\n"
   ]
  },
  {
   "cell_type": "markdown",
   "metadata": {},
   "source": [
    "6. (2 pts) Use the built-in `np.lookfor()` function to search for `'log'`.\n",
    "\n",
    "Use the function you find and apply it to `mpg`."
   ]
  },
  {
   "cell_type": "code",
   "execution_count": 27,
   "metadata": {},
   "outputs": [
    {
     "name": "stdout",
     "output_type": "stream",
     "text": [
      "[2.89037176 2.7080502  2.89037176 2.77258872 2.83321334 2.7080502\n",
      " 2.63905733 2.63905733 2.63905733 2.7080502  2.7080502  2.63905733\n",
      " 2.7080502  2.63905733 3.17805383 3.09104245 2.89037176 3.04452244\n",
      " 3.29583687 3.25809654 3.21887582 3.17805383 3.21887582 3.25809654\n",
      " 3.04452244 2.30258509 2.30258509 2.39789527 2.19722458 3.29583687\n",
      " 3.33220451 3.21887582 3.21887582 2.94443898 2.77258872 2.83321334\n",
      " 2.94443898 2.89037176 2.63905733 2.63905733 2.63905733 2.63905733\n",
      " 2.48490665 2.56494936 2.56494936 2.89037176 3.09104245 2.94443898\n",
      " 2.89037176 3.13549422 3.33220451 3.40119738 3.40119738 3.4339872\n",
      " 3.55534806 3.29583687 3.25809654 3.17805383 3.21887582 3.13549422\n",
      " 2.99573227 3.04452244 2.56494936 2.63905733 2.7080502  2.63905733\n",
      " 2.83321334 2.39789527 2.56494936 2.48490665 2.56494936 2.94443898\n",
      " 2.7080502  2.56494936 2.56494936 2.63905733 2.89037176 3.09104245\n",
      " 3.04452244 3.25809654 3.09104245 3.33220451 3.13549422 3.33220451\n",
      " 3.29583687 2.56494936 2.63905733 2.56494936 2.63905733 2.7080502\n",
      " 2.48490665 2.56494936 2.56494936 2.63905733 2.56494936 2.48490665\n",
      " 2.56494936 2.89037176 2.77258872 2.89037176 2.89037176 3.13549422\n",
      " 3.25809654 2.39789527 2.48490665 2.56494936 2.48490665 2.89037176\n",
      " 2.99573227 3.04452244 3.09104245 2.89037176 2.94443898 3.04452244\n",
      " 3.25809654 2.7080502  2.77258872 3.36729583 3.17805383 2.99573227\n",
      " 2.94443898 2.7080502  3.17805383 2.99573227 2.39789527 2.99573227\n",
      " 3.04452244 2.94443898 2.7080502  3.4339872  3.25809654 3.4657359\n",
      " 3.21887582 2.77258872 2.77258872 2.89037176 2.77258872 2.56494936\n",
      " 2.63905733 2.63905733 2.63905733 3.36729583 3.25809654 3.25809654\n",
      " 3.4339872  3.4657359  3.33220451 3.17805383 3.25809654 3.17805383\n",
      " 3.25809654 3.4339872  2.94443898 2.89037176 2.7080502  2.7080502\n",
      " 2.77258872 2.7080502  2.77258872 2.63905733 2.83321334 2.77258872\n",
      " 2.7080502  2.89037176 3.04452244 2.99573227 2.56494936 3.36729583\n",
      " 3.13549422 2.99573227 3.13549422 3.17805383 3.21887582 3.17805383\n",
      " 2.89037176 3.36729583 2.94443898 3.13549422 3.13549422 3.09104245\n",
      " 3.21887582 3.49650756 3.33220451 3.21887582 3.21887582 3.25809654\n",
      " 3.29583687 2.86220088 2.77258872 2.74084002 2.67414865 3.09104245\n",
      " 3.09104245 3.17805383 3.11351531 3.36729583 3.19867312 3.36729583\n",
      " 3.49650756 2.99573227 2.89037176 2.91777073 2.86220088 3.38439026\n",
      " 3.4657359  3.33220451 3.27714473 2.99573227 2.56494936 2.94443898\n",
      " 2.94443898 2.80336038 2.80336038 2.56494936 2.56494936 2.56494936\n",
      " 3.44998755 3.40119738 3.58351894 3.23867845 3.51154544 2.86220088\n",
      " 2.83321334 2.74084002 2.7080502  2.86220088 3.02042489 2.94443898\n",
      " 2.91777073 2.77258872 2.74084002 2.74084002 2.77258872 3.36729583\n",
      " 3.19867312 3.25809654 3.23867845 3.41772668 3.51154544 3.40119738\n",
      " 3.41772668 3.09104245 3.06805294 3.06805294 3.763523   3.58629287\n",
      " 3.49042852 3.67376582 3.58629287 2.99071973 2.96527307 3.0056826\n",
      " 2.95491028 3.02042489 3.0056826  3.22286785 3.02042489 2.96527307\n",
      " 3.02529108 3.03495299 2.92316158 2.89591194 2.95491028 2.87356464\n",
      " 2.89591194 2.86220088 3.40119738 3.314186   3.30321697 3.43075618\n",
      " 3.04927304 3.14415228 3.16968558 3.17387846 3.01062089 2.83321334\n",
      " 3.07269331 2.78501124 3.44998755 3.38439026 3.06805294 2.98568194\n",
      " 3.10458668 3.0056826  3.02529108 2.83321334 2.8678989  2.80336038\n",
      " 2.90142159 2.82731362 2.74084002 2.95491028 2.91777073 3.46260601\n",
      " 3.52929738 3.57515069 3.31054301 3.23474917 3.13549422 3.30321697\n",
      " 3.17387846 3.53222564 3.54095932 3.45946629 3.61899333 3.34638915\n",
      " 3.36037539 3.28840189 3.51154544 3.72569343 3.64021428 3.46885603\n",
      " 3.61630876 3.33220451 3.27336401 3.19047635 2.94968834 3.53514535\n",
      " 3.39450839 3.4436181  3.61091791 3.47196645 3.84160054 3.32862669\n",
      " 3.70868208 3.79098468 3.77045944 3.59456877 3.40119738 3.79773386\n",
      " 3.71113006 3.5204608  3.39450839 3.48737508 3.16547505 3.55534806\n",
      " 3.16124671 3.47815842 3.30321697 3.28091122 3.25037449 3.15700042\n",
      " 3.40119738 3.66612247 3.66356165 3.55820113 3.47506723 3.61091791\n",
      " 3.62966009 3.52929738 3.54673969 3.53805656 3.39785848 3.49650756\n",
      " 3.54095932 3.51749784 3.47815842 3.49347266 3.45315712 3.33576958\n",
      " 3.42426265 3.23474917 3.18635263 3.10906096 3.28091122 3.0056826\n",
      " 2.8678989  3.33220451 3.29583687 3.52636052 3.4339872  3.36729583\n",
      " 3.29583687 3.17805383 3.13549422 3.58351894 3.61091791 3.4339872\n",
      " 3.63758616 3.58351894 3.58351894 3.58351894 3.52636052 3.63758616\n",
      " 3.4657359  3.63758616 3.21887582 3.63758616 3.25809654 3.09104245\n",
      " 3.4657359  3.58351894 3.29583687 3.29583687 3.78418963 3.4657359\n",
      " 3.33220451 3.4339872 ]\n"
     ]
    }
   ],
   "source": [
    "import pandas as pd\n",
    "import numpy as np\n",
    "csv_df = pd.read_csv('cars.csv', delimiter=\";\")\n",
    "mpg = np.array(csv_df['MPG'])\n",
    "mpg = mpg[mpg > 0]\n",
    "log_mpg = np.log(mpg)\n",
    "\n",
    "print(log_mpg)\n"
   ]
  },
  {
   "cell_type": "markdown",
   "metadata": {},
   "source": [
    "7. (2 pts) Use boolean indexing to create an array of `True/False` using `origin` and the value 'US'."
   ]
  },
  {
   "cell_type": "code",
   "execution_count": 36,
   "metadata": {
    "scrolled": true
   },
   "outputs": [
    {
     "name": "stdout",
     "output_type": "stream",
     "text": [
      "Columns in DataFrame: Index(['Car', 'MPG', 'Cylinders', 'Displacement', 'Horsepower', 'Weight',\n",
      "       'Acceleration', 'Model', 'Origin'],\n",
      "      dtype='object')\n",
      "0       True\n",
      "1       True\n",
      "2       True\n",
      "3       True\n",
      "4       True\n",
      "       ...  \n",
      "401     True\n",
      "402    False\n",
      "403     True\n",
      "404     True\n",
      "405     True\n",
      "Name: Origin, Length: 406, dtype: bool\n"
     ]
    }
   ],
   "source": [
    "import pandas as pd\n",
    "df = pd.read_csv('cars.csv')\n",
    "df.head()\n",
    "cars_df = pd.read_csv('cars.csv', delimiter=';')\n",
    "print(\"Columns in DataFrame:\", csv_df.columns)\n",
    "\n",
    "if 'Origin' in csv_df.columns:\n",
    "    boolean_index = csv_df['Origin'] == 'US'\n",
    "    print(boolean_index)\n",
    "else:\n",
    "    print(\"False\")\n",
    "\n"
   ]
  },
  {
   "cell_type": "markdown",
   "metadata": {},
   "source": [
    "8. (2 pts) Apply your index (from above) to the `car` array. You should now only see cars that are of US origin. "
   ]
  },
  {
   "cell_type": "code",
   "execution_count": 49,
   "metadata": {},
   "outputs": [
    {
     "name": "stdout",
     "output_type": "stream",
     "text": [
      "                         Car   MPG  Cylinders  Displacement  Horsepower  \\\n",
      "0  Chevrolet Chevelle Malibu  18.0          8         307.0       130.0   \n",
      "1          Buick Skylark 320  15.0          8         350.0       165.0   \n",
      "2         Plymouth Satellite  18.0          8         318.0       150.0   \n",
      "3              AMC Rebel SST  16.0          8         304.0       150.0   \n",
      "4                Ford Torino  17.0          8         302.0       140.0   \n",
      "\n",
      "   Weight  Acceleration  Model Origin  \n",
      "0  3504.0          12.0     70     US  \n",
      "1  3693.0          11.5     70     US  \n",
      "2  3436.0          11.0     70     US  \n",
      "3  3433.0          12.0     70     US  \n",
      "4  3449.0          10.5     70     US  \n",
      "                           Car   MPG  Cylinders  Displacement  Horsepower  \\\n",
      "0    Chevrolet Chevelle Malibu  18.0          8         307.0       130.0   \n",
      "1            Buick Skylark 320  15.0          8         350.0       165.0   \n",
      "2           Plymouth Satellite  18.0          8         318.0       150.0   \n",
      "3                AMC Rebel SST  16.0          8         304.0       150.0   \n",
      "4                  Ford Torino  17.0          8         302.0       140.0   \n",
      "..                         ...   ...        ...           ...         ...   \n",
      "400           Chevrolet Camaro  27.0          4         151.0        90.0   \n",
      "401            Ford Mustang GL  27.0          4         140.0        86.0   \n",
      "403              Dodge Rampage  32.0          4         135.0        84.0   \n",
      "404                Ford Ranger  28.0          4         120.0        79.0   \n",
      "405                 Chevy S-10  31.0          4         119.0        82.0   \n",
      "\n",
      "     Weight  Acceleration  Model Origin  \n",
      "0    3504.0          12.0     70     US  \n",
      "1    3693.0          11.5     70     US  \n",
      "2    3436.0          11.0     70     US  \n",
      "3    3433.0          12.0     70     US  \n",
      "4    3449.0          10.5     70     US  \n",
      "..      ...           ...    ...    ...  \n",
      "400  2950.0          17.3     82     US  \n",
      "401  2790.0          15.6     82     US  \n",
      "403  2295.0          11.6     82     US  \n",
      "404  2625.0          18.6     82     US  \n",
      "405  2720.0          19.4     82     US  \n",
      "\n",
      "[254 rows x 9 columns]\n"
     ]
    }
   ],
   "source": [
    "import pandas as pd\n",
    "import numpy as np\n",
    "csv_df = pd.read_csv('cars.csv', delimiter=\";\")\n",
    "print(csv_df.head())\n",
    "is_us = csv_df['Origin'] == 'US'\n",
    "us_cars_df = csv_df[is_us]\n",
    "print(us_cars_df)\n"
   ]
  },
  {
   "cell_type": "markdown",
   "metadata": {},
   "source": [
    "### Use numpy or pandas to answer the following questions."
   ]
  },
  {
   "cell_type": "markdown",
   "metadata": {},
   "source": [
    "9. (3 pts) What is the average horsepower for `Europe` cars? (Hint: create a boolean index of 'US' apply it to horsepower and perform the calculation.)"
   ]
  },
  {
   "cell_type": "code",
   "execution_count": 45,
   "metadata": {},
   "outputs": [
    {
     "name": "stdout",
     "output_type": "stream",
     "text": [
      "                         Car   MPG  Cylinders  Displacement  Horsepower  \\\n",
      "0  Chevrolet Chevelle Malibu  18.0          8         307.0       130.0   \n",
      "1          Buick Skylark 320  15.0          8         350.0       165.0   \n",
      "2         Plymouth Satellite  18.0          8         318.0       150.0   \n",
      "3              AMC Rebel SST  16.0          8         304.0       150.0   \n",
      "4                Ford Torino  17.0          8         302.0       140.0   \n",
      "\n",
      "   Weight  Acceleration  Model Origin  \n",
      "0  3504.0          12.0     70     US  \n",
      "1  3693.0          11.5     70     US  \n",
      "2  3436.0          11.0     70     US  \n",
      "3  3433.0          12.0     70     US  \n",
      "4  3449.0          10.5     70     US  \n",
      "Average horsepower for EU cars: 78.78082191780823\n"
     ]
    }
   ],
   "source": [
    "#The average horsepower in European cars is 78.78082191780823.\n",
    "import pandas as pd\n",
    "import numpy as np\n",
    "csv_df = pd.read_csv('cars.csv', delimiter=\";\")\n",
    "print(csv_df.head())\n",
    "\n",
    "is_eu = csv_df['Origin'] == 'Europe'\n",
    "eu_horsepower = csv_df.loc[is_eu, 'Horsepower']\n",
    "\n",
    "eu_horsepower = pd.to_numeric(eu_horsepower, errors='coerce')\n",
    "average_horsepower_eu = eu_horsepower.mean()\n",
    "print(f\"Average horsepower for EU cars: {average_horsepower_eu}\")\n",
    "\n"
   ]
  },
  {
   "cell_type": "markdown",
   "metadata": {},
   "source": [
    "10. (3 pts) On average are Japanese cars more fuel-efficient than US cars? Show the code that you used to determine this.  "
   ]
  },
  {
   "cell_type": "code",
   "execution_count": 38,
   "metadata": {},
   "outputs": [
    {
     "name": "stdout",
     "output_type": "stream",
     "text": [
      "                         Car   MPG  Cylinders  Displacement  Horsepower  \\\n",
      "0  Chevrolet Chevelle Malibu  18.0          8         307.0       130.0   \n",
      "1          Buick Skylark 320  15.0          8         350.0       165.0   \n",
      "2         Plymouth Satellite  18.0          8         318.0       150.0   \n",
      "3              AMC Rebel SST  16.0          8         304.0       150.0   \n",
      "4                Ford Torino  17.0          8         302.0       140.0   \n",
      "\n",
      "   Weight  Acceleration  Model Origin  \n",
      "0  3504.0          12.0     70     US  \n",
      "1  3693.0          11.5     70     US  \n",
      "2  3436.0          11.0     70     US  \n",
      "3  3433.0          12.0     70     US  \n",
      "4  3449.0          10.5     70     US  \n",
      "Average MPG for Japanese cars: 30.450632911392404\n",
      "Average MPG for US cars: 19.688188976377955\n",
      "Japanese cars are more fuel efficient than American cars.\n"
     ]
    }
   ],
   "source": [
    "#On average Japanese cars are more fuel efficient than American cars.\n",
    "\n",
    "import pandas as pd\n",
    "import numpy as np\n",
    "csv_df = pd.read_csv('cars.csv', delimiter=\";\")\n",
    "print(csv_df.head())\n",
    "is_japan = csv_df['Origin'] == 'Japan'\n",
    "is_us = csv_df['Origin'] == 'US'\n",
    "japan_mpg = csv_df.loc[is_japan, 'MPG']\n",
    "us_mpg = csv_df.loc[is_us, 'MPG']\n",
    "average_mJapan = japan_mpg.mean()\n",
    "average_mUS = us_mpg.mean()\n",
    "print(f\"Average MPG for Japanese cars: {average_mJapan}\")\n",
    "print(f\"Average MPG for US cars: {average_mUS}\")\n",
    "if average_mJapan > average_mUS:\n",
    "    print(\"Japanese cars are more fuel efficient than American cars.\")\n",
    "else:\n",
    "    print(\"US cars are more fuel efficient than Japanese cars.\")\n",
    "\n"
   ]
  },
  {
   "cell_type": "markdown",
   "metadata": {},
   "source": [
    "11. (3 pts) What is the correlation coefficient of `mpg` and `weight`? What is a correlation coefficient? What does the result indicate about the relationship between mpg and weight? "
   ]
  },
  {
   "cell_type": "code",
   "execution_count": 46,
   "metadata": {},
   "outputs": [
    {
     "name": "stdout",
     "output_type": "stream",
     "text": [
      "                         Car   MPG  Cylinders  Displacement  Horsepower  \\\n",
      "0  Chevrolet Chevelle Malibu  18.0          8         307.0       130.0   \n",
      "1          Buick Skylark 320  15.0          8         350.0       165.0   \n",
      "2         Plymouth Satellite  18.0          8         318.0       150.0   \n",
      "3              AMC Rebel SST  16.0          8         304.0       150.0   \n",
      "4                Ford Torino  17.0          8         302.0       140.0   \n",
      "\n",
      "   Weight  Acceleration  Model Origin  \n",
      "0  3504.0          12.0     70     US  \n",
      "1  3693.0          11.5     70     US  \n",
      "2  3436.0          11.0     70     US  \n",
      "3  3433.0          12.0     70     US  \n",
      "4  3449.0          10.5     70     US  \n",
      "Correlation coef. between MPG and weight: -0.7875099405047029\n"
     ]
    }
   ],
   "source": [
    "import pandas as pd\n",
    "csv_df = pd.read_csv('cars.csv', delimiter=\";\")\n",
    "print(csv_df.head())\n",
    "mpg = pd.to_numeric(csv_df['MPG'], errors='coerce')\n",
    "Weight = pd.to_numeric(csv_df['Weight'], errors='coerce')\n",
    "correlation_coef = mpg.corr(Weight)\n",
    "print(f\"Correlation coef. between MPG and weight: {correlation_coef}\")\n"
   ]
  },
  {
   "cell_type": "markdown",
   "metadata": {},
   "source": [
    "Extra credit: (3 pts) Create a new pandas dataframe that has the average mpg, weight, and horsepower per country of origin"
   ]
  },
  {
   "cell_type": "code",
   "execution_count": null,
   "metadata": {},
   "outputs": [],
   "source": []
  }
 ],
 "metadata": {
  "kernelspec": {
   "display_name": "Python 3 (ipykernel)",
   "language": "python",
   "name": "python3"
  },
  "language_info": {
   "codemirror_mode": {
    "name": "ipython",
    "version": 3
   },
   "file_extension": ".py",
   "mimetype": "text/x-python",
   "name": "python",
   "nbconvert_exporter": "python",
   "pygments_lexer": "ipython3",
   "version": "3.9.1"
  }
 },
 "nbformat": 4,
 "nbformat_minor": 4
}
