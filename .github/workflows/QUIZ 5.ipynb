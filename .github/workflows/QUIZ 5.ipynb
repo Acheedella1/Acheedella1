{
 "cells": [
  {
   "cell_type": "code",
   "execution_count": 63,
   "id": "e840b7ef-2b20-4bd7-87e8-9c54c44d9847",
   "metadata": {},
   "outputs": [
    {
     "name": "stdout",
     "output_type": "stream",
     "text": [
      "['$400.75']\n"
     ]
    }
   ],
   "source": [
    "import pandas as pd\n",
    "import numpy as np\n",
    "#lambda cleaning\n",
    "#(2 pts) Write a lambda function to rearrange positive and negative numbers in a given list\n",
    "original_list = [-1,2,-3,4,-5,6,-7,8,-9,10,-11,12] \n",
    "rearranged = sorted(original_list, key = lambda x: (1 if x>0 else 2,abs(x) if x>0 else x))\n",
    "rearranged\n",
    "\n",
    "\n",
    "\n",
    "#(3 pts) Clean the JEOPARDY_DATA.csv so that `round` uses one-hot encoding instead of categorical values AND the `value` column shows a decimal type when you do a type check. HINT: you may need to clean up the column names to make this easier.\n",
    "data_df = pd.read_csv(\"JEOPARDY_DATA.csv\")\n",
    "data_df.columns = data_df.columns.str.replace(\" \", \"\")\n",
    "data_df = pd.get_dummies(data_df['Round'])\n",
    "\n",
    "#Bonus (1 pt): Why do you think it might be inconvenient that python does not have a \"first-class\" money type and that you have to use a decimal type instead?\n",
    "\n",
    "\n",
    "\n",
    "\n"
   ]
  },
  {
   "cell_type": "code",
   "execution_count": 91,
   "id": "ffa1f790-cd85-4dc7-83a8-9a5a107339ac",
   "metadata": {},
   "outputs": [
    {
     "name": "stdout",
     "output_type": "stream",
     "text": [
      "['$200.0', '$200.0', '$200.0', '$200.0', '$200.0', '$200.0', '$400.0', '$400.0', '$400.0', '$400.0', '$400.0', '$400.0', '$600.0', '$600.0', '$600.0', '$600.0', '$600.0', '$600.0', '$800.0', '$800.0', '$800.0', '$800.0', '$2000.0', '$800.0', '$1000.0', '$1000.0', '$1000.0', '$1000.0', '$1000.0', '$400.0', '$400.0', '$400.0', '$400.0', '$400.0', '$400.0', '$800.0', '$800.0', '$800.0', '$800.0', '$800.0', '$1200.0', '$2000.0', '$1200.0', '$1200.0', '$1200.0', '$1600.0', '$1600.0', '$1600.0', '$1600.0', '$1600.0']\n",
      "[600.0, 600.0, 600.0, 600.0, 600.0, 600.0, 800.0, 800.0, 800.0, 800.0, 2000.0, 800.0, 1000.0, 1000.0, 1000.0, 1000.0, 1000.0, 800.0, 800.0, 800.0, 800.0, 800.0, 1200.0, 2000.0, 1200.0, 1200.0, 1200.0, 1600.0, 1600.0, 1600.0, 1600.0, 1600.0]\n"
     ]
    }
   ],
   "source": [
    "#Decimal part of question 2_ adpated from data_cleaning up to formatted_df\n",
    "import pandas as pd\n",
    "data_df = pd.read_csv(\"JEOPARDY_DATA.csv\")\n",
    "data_df.columns = data_df.columns.str.replace(\" \", \"\")\n",
    "data_df['Value'] = data_df['Value'].str.replace('$', '').str.replace(',', '').apply(float)\n",
    "value_df = data_df['Value'].tolist()[:50]\n",
    "#map from preprocessing and concatenation from my notes\n",
    "string_values = map(str, value_list)\n",
    "formatted_df = ['$' + num for num in string_values]\n",
    "cleaned_df = list(filter(lambda num: num > 400, value_list))\n",
    "#These are lists so I cannot use head.\n",
    "print(formatted_df)\n",
    "print(cleaned_df)\n",
    "\n"
   ]
  },
  {
   "cell_type": "code",
   "execution_count": null,
   "id": "a008b615-c5b7-452f-987a-f269f2ce3823",
   "metadata": {},
   "outputs": [],
   "source": [
    "#Bonus (1 pt): Why might it be inconvenient that Python does not have a \"first-class\" money type and that you must use a decimal type instead?\n",
    "#It's inconvenient because then we have to use the processes from above to do these but it makes sense because other numerical values will default to that format and this is just money which isn't a big component for data processing for other values to default to it."
   ]
  }
 ],
 "metadata": {
  "kernelspec": {
   "display_name": "Python 3 (ipykernel)",
   "language": "python",
   "name": "python3"
  },
  "language_info": {
   "codemirror_mode": {
    "name": "ipython",
    "version": 3
   },
   "file_extension": ".py",
   "mimetype": "text/x-python",
   "name": "python",
   "nbconvert_exporter": "python",
   "pygments_lexer": "ipython3",
   "version": "3.9.1"
  }
 },
 "nbformat": 4,
 "nbformat_minor": 5
}
